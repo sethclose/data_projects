{
 "cells": [
  {
   "cell_type": "markdown",
   "id": "8b18e2d6-4f44-450a-959d-291dc44b5600",
   "metadata": {},
   "source": [
    "# Data Collection"
   ]
  },
  {
   "cell_type": "code",
   "execution_count": 1,
   "id": "53299834-3402-4a0b-bbd1-af4fc348a623",
   "metadata": {},
   "outputs": [
    {
     "name": "stdout",
     "output_type": "stream",
     "text": [
      "Imported Libraries\n"
     ]
    }
   ],
   "source": [
    "import requests\n",
    "import pandas as pd\n",
    "import numpy as np\n",
    "import datetime\n",
    "print(\"Imported Libraries\")"
   ]
  },
  {
   "cell_type": "code",
   "execution_count": 2,
   "id": "7fc08f8d-a7c0-48e5-9b62-89f4016e4f00",
   "metadata": {},
   "outputs": [
    {
     "name": "stdout",
     "output_type": "stream",
     "text": [
      "Set Options\n"
     ]
    }
   ],
   "source": [
    "pd.set_option('display.max_columns', None)\n",
    "pd.set_option('display.max_colwidth', None)\n",
    "print(\"Set Options\")"
   ]
  },
  {
   "cell_type": "markdown",
   "id": "939db839-25e7-46c0-990f-d42e613ff1ec",
   "metadata": {},
   "source": [
    "## APIs"
   ]
  },
  {
   "cell_type": "code",
   "execution_count": 3,
   "id": "19f3e01e-c700-4170-a546-fc083e6a0aa4",
   "metadata": {},
   "outputs": [],
   "source": [
    "# Takes the dataset and uses the rocket column to call the API and append the data to the list\n",
    "def getBoosterVersion(data):\n",
    "    for x in data['rocket']:\n",
    "       if x:\n",
    "        response = requests.get(\"https://api.spacexdata.com/v4/rockets/\"+str(x)).json()\n",
    "        BoosterVersion.append(response['name'])"
   ]
  },
  {
   "cell_type": "code",
   "execution_count": 4,
   "id": "54e530a0-f330-43a7-a28e-7a43c372a84b",
   "metadata": {},
   "outputs": [],
   "source": [
    "# Takes the dataset and uses the launchpad column to call the API and append the data to the list\n",
    "def getLaunchSite(data):\n",
    "    for x in data['launchpad']:\n",
    "       if x:\n",
    "         response = requests.get(\"https://api.spacexdata.com/v4/launchpads/\"+str(x)).json()\n",
    "         Longitude.append(response['longitude'])\n",
    "         Latitude.append(response['latitude'])\n",
    "         LaunchSite.append(response['name'])"
   ]
  },
  {
   "cell_type": "code",
   "execution_count": 5,
   "id": "e46976fe-e722-49c6-bfc0-4110d1baf7ec",
   "metadata": {},
   "outputs": [],
   "source": [
    "def getPayloadData(data):\n",
    "    for load in data['payloads']:\n",
    "       if load:\n",
    "        response = requests.get(\"https://api.spacexdata.com/v4/payloads/\"+load).json()\n",
    "        PayloadMass.append(response['mass_kg'])\n",
    "        Orbit.append(response['orbit'])"
   ]
  },
  {
   "cell_type": "code",
   "execution_count": 6,
   "id": "d530ba0f-1420-458b-a488-78ef6bb2f8d9",
   "metadata": {},
   "outputs": [],
   "source": [
    "# Takes the dataset and uses the cores column to call the API and append the data to the lists\n",
    "def getCoreData(data):\n",
    "    for core in data['cores']:\n",
    "            if core['core'] != None:\n",
    "                response = requests.get(\"https://api.spacexdata.com/v4/cores/\"+core['core']).json()\n",
    "                Block.append(response['block'])\n",
    "                ReusedCount.append(response['reuse_count'])\n",
    "                Serial.append(response['serial'])\n",
    "            else:\n",
    "                Block.append(None)\n",
    "                ReusedCount.append(None)\n",
    "                Serial.append(None)\n",
    "            Outcome.append(str(core['landing_success'])+' '+str(core['landing_type']))\n",
    "            Flights.append(core['flight'])\n",
    "            GridFins.append(core['gridfins'])\n",
    "            Reused.append(core['reused'])\n",
    "            Legs.append(core['legs'])\n",
    "            LandingPad.append(core['landpad'])"
   ]
  },
  {
   "cell_type": "markdown",
   "id": "3b9b9500-f3a2-4e61-9bdb-d2dfe087d1a1",
   "metadata": {},
   "source": [
    "## Task 1:  Request and parse the SpaceX launch data using the GET request"
   ]
  },
  {
   "cell_type": "code",
   "execution_count": 7,
   "id": "4e2a1cc3-ca0b-42cd-bd9e-0a07a1d7238c",
   "metadata": {},
   "outputs": [
    {
     "data": {
      "text/plain": [
       "200"
      ]
     },
     "execution_count": 7,
     "metadata": {},
     "output_type": "execute_result"
    }
   ],
   "source": [
    "spacex_url=\"https://api.spacexdata.com/v4/launches/past\"\n",
    "response = requests.get(spacex_url)\n",
    "response.status_code"
   ]
  },
  {
   "cell_type": "code",
   "execution_count": 8,
   "id": "c5aedad4-830a-4933-9e05-58f5a6af8921",
   "metadata": {},
   "outputs": [
    {
     "data": {
      "text/plain": [
       "(187, 43)"
      ]
     },
     "execution_count": 8,
     "metadata": {},
     "output_type": "execute_result"
    }
   ],
   "source": [
    "data = pd.json_normalize(response.json())\n",
    "data.shape"
   ]
  },
  {
   "cell_type": "code",
   "execution_count": 9,
   "id": "170ecf88-1d5a-401c-ad63-70550827ec72",
   "metadata": {},
   "outputs": [
    {
     "data": {
      "text/html": [
       "<div>\n",
       "<style scoped>\n",
       "    .dataframe tbody tr th:only-of-type {\n",
       "        vertical-align: middle;\n",
       "    }\n",
       "\n",
       "    .dataframe tbody tr th {\n",
       "        vertical-align: top;\n",
       "    }\n",
       "\n",
       "    .dataframe thead th {\n",
       "        text-align: right;\n",
       "    }\n",
       "</style>\n",
       "<table border=\"1\" class=\"dataframe\">\n",
       "  <thead>\n",
       "    <tr style=\"text-align: right;\">\n",
       "      <th></th>\n",
       "      <th>static_fire_date_utc</th>\n",
       "      <th>static_fire_date_unix</th>\n",
       "      <th>net</th>\n",
       "      <th>window</th>\n",
       "      <th>rocket</th>\n",
       "      <th>success</th>\n",
       "      <th>failures</th>\n",
       "      <th>details</th>\n",
       "      <th>crew</th>\n",
       "      <th>ships</th>\n",
       "      <th>capsules</th>\n",
       "      <th>payloads</th>\n",
       "      <th>launchpad</th>\n",
       "      <th>flight_number</th>\n",
       "      <th>name</th>\n",
       "      <th>date_utc</th>\n",
       "      <th>date_unix</th>\n",
       "      <th>date_local</th>\n",
       "      <th>date_precision</th>\n",
       "      <th>upcoming</th>\n",
       "      <th>cores</th>\n",
       "      <th>auto_update</th>\n",
       "      <th>tbd</th>\n",
       "      <th>launch_library_id</th>\n",
       "      <th>id</th>\n",
       "      <th>fairings.reused</th>\n",
       "      <th>fairings.recovery_attempt</th>\n",
       "      <th>fairings.recovered</th>\n",
       "      <th>fairings.ships</th>\n",
       "      <th>links.patch.small</th>\n",
       "      <th>links.patch.large</th>\n",
       "      <th>links.reddit.campaign</th>\n",
       "      <th>links.reddit.launch</th>\n",
       "      <th>links.reddit.media</th>\n",
       "      <th>links.reddit.recovery</th>\n",
       "      <th>links.flickr.small</th>\n",
       "      <th>links.flickr.original</th>\n",
       "      <th>links.presskit</th>\n",
       "      <th>links.webcast</th>\n",
       "      <th>links.youtube_id</th>\n",
       "      <th>links.article</th>\n",
       "      <th>links.wikipedia</th>\n",
       "      <th>fairings</th>\n",
       "    </tr>\n",
       "  </thead>\n",
       "  <tbody>\n",
       "    <tr>\n",
       "      <th>0</th>\n",
       "      <td>2006-03-17T00:00:00.000Z</td>\n",
       "      <td>1.142554e+09</td>\n",
       "      <td>False</td>\n",
       "      <td>0.0</td>\n",
       "      <td>5e9d0d95eda69955f709d1eb</td>\n",
       "      <td>False</td>\n",
       "      <td>[{'time': 33, 'altitude': None, 'reason': 'merlin engine failure'}]</td>\n",
       "      <td>Engine failure at 33 seconds and loss of vehicle</td>\n",
       "      <td>[]</td>\n",
       "      <td>[]</td>\n",
       "      <td>[]</td>\n",
       "      <td>[5eb0e4b5b6c3bb0006eeb1e1]</td>\n",
       "      <td>5e9e4502f5090995de566f86</td>\n",
       "      <td>1</td>\n",
       "      <td>FalconSat</td>\n",
       "      <td>2006-03-24T22:30:00.000Z</td>\n",
       "      <td>1143239400</td>\n",
       "      <td>2006-03-25T10:30:00+12:00</td>\n",
       "      <td>hour</td>\n",
       "      <td>False</td>\n",
       "      <td>[{'core': '5e9e289df35918033d3b2623', 'flight': 1, 'gridfins': False, 'legs': False, 'reused': False, 'landing_attempt': False, 'landing_success': None, 'landing_type': None, 'landpad': None}]</td>\n",
       "      <td>True</td>\n",
       "      <td>False</td>\n",
       "      <td>None</td>\n",
       "      <td>5eb87cd9ffd86e000604b32a</td>\n",
       "      <td>False</td>\n",
       "      <td>False</td>\n",
       "      <td>False</td>\n",
       "      <td>[]</td>\n",
       "      <td>https://images2.imgbox.com/94/f2/NN6Ph45r_o.png</td>\n",
       "      <td>https://images2.imgbox.com/5b/02/QcxHUb5V_o.png</td>\n",
       "      <td>None</td>\n",
       "      <td>None</td>\n",
       "      <td>None</td>\n",
       "      <td>None</td>\n",
       "      <td>[]</td>\n",
       "      <td>[]</td>\n",
       "      <td>None</td>\n",
       "      <td>https://www.youtube.com/watch?v=0a_00nJ_Y88</td>\n",
       "      <td>0a_00nJ_Y88</td>\n",
       "      <td>https://www.space.com/2196-spacex-inaugural-falcon-1-rocket-lost-launch.html</td>\n",
       "      <td>https://en.wikipedia.org/wiki/DemoSat</td>\n",
       "      <td>NaN</td>\n",
       "    </tr>\n",
       "  </tbody>\n",
       "</table>\n",
       "</div>"
      ],
      "text/plain": [
       "       static_fire_date_utc  static_fire_date_unix    net  window  \\\n",
       "0  2006-03-17T00:00:00.000Z           1.142554e+09  False     0.0   \n",
       "\n",
       "                     rocket success  \\\n",
       "0  5e9d0d95eda69955f709d1eb   False   \n",
       "\n",
       "                                                              failures  \\\n",
       "0  [{'time': 33, 'altitude': None, 'reason': 'merlin engine failure'}]   \n",
       "\n",
       "                                            details crew ships capsules  \\\n",
       "0  Engine failure at 33 seconds and loss of vehicle   []    []       []   \n",
       "\n",
       "                     payloads                 launchpad  flight_number  \\\n",
       "0  [5eb0e4b5b6c3bb0006eeb1e1]  5e9e4502f5090995de566f86              1   \n",
       "\n",
       "        name                  date_utc   date_unix                 date_local  \\\n",
       "0  FalconSat  2006-03-24T22:30:00.000Z  1143239400  2006-03-25T10:30:00+12:00   \n",
       "\n",
       "  date_precision  upcoming  \\\n",
       "0           hour     False   \n",
       "\n",
       "                                                                                                                                                                                              cores  \\\n",
       "0  [{'core': '5e9e289df35918033d3b2623', 'flight': 1, 'gridfins': False, 'legs': False, 'reused': False, 'landing_attempt': False, 'landing_success': None, 'landing_type': None, 'landpad': None}]   \n",
       "\n",
       "   auto_update    tbd launch_library_id                        id  \\\n",
       "0         True  False              None  5eb87cd9ffd86e000604b32a   \n",
       "\n",
       "  fairings.reused fairings.recovery_attempt fairings.recovered fairings.ships  \\\n",
       "0           False                     False              False             []   \n",
       "\n",
       "                                 links.patch.small  \\\n",
       "0  https://images2.imgbox.com/94/f2/NN6Ph45r_o.png   \n",
       "\n",
       "                                 links.patch.large links.reddit.campaign  \\\n",
       "0  https://images2.imgbox.com/5b/02/QcxHUb5V_o.png                  None   \n",
       "\n",
       "  links.reddit.launch links.reddit.media links.reddit.recovery  \\\n",
       "0                None               None                  None   \n",
       "\n",
       "  links.flickr.small links.flickr.original links.presskit  \\\n",
       "0                 []                    []           None   \n",
       "\n",
       "                                 links.webcast links.youtube_id  \\\n",
       "0  https://www.youtube.com/watch?v=0a_00nJ_Y88      0a_00nJ_Y88   \n",
       "\n",
       "                                                                  links.article  \\\n",
       "0  https://www.space.com/2196-spacex-inaugural-falcon-1-rocket-lost-launch.html   \n",
       "\n",
       "                         links.wikipedia  fairings  \n",
       "0  https://en.wikipedia.org/wiki/DemoSat       NaN  "
      ]
     },
     "execution_count": 9,
     "metadata": {},
     "output_type": "execute_result"
    }
   ],
   "source": [
    "data.head(1)"
   ]
  },
  {
   "cell_type": "markdown",
   "id": "f1ca311e-72b1-48de-8e86-2087070d47b6",
   "metadata": {},
   "source": [
    "## Pre-processing"
   ]
  },
  {
   "cell_type": "code",
   "execution_count": 10,
   "id": "86e04ec3-3479-4241-b790-5cd9fe292e49",
   "metadata": {},
   "outputs": [],
   "source": [
    "# Lets take a subset of our dataframe keeping only the features we want and the flight number, and date_utc.\n",
    "data = data[['rocket', 'payloads', 'launchpad', 'cores', 'flight_number', 'date_utc']]"
   ]
  },
  {
   "cell_type": "code",
   "execution_count": 11,
   "id": "2e718855-8bda-494c-bc38-1392d266986a",
   "metadata": {},
   "outputs": [],
   "source": [
    "# We will remove rows with multiple cores because those are falcon rockets with 2 extra rocket boosters and rows that have multiple payloads in a single rocket.\n",
    "data = data[data['cores'].map(len)==1]\n",
    "data = data[data['payloads'].map(len)==1]"
   ]
  },
  {
   "cell_type": "code",
   "execution_count": 12,
   "id": "72b6ffbb-6779-4840-aaa2-e56ee3809e8a",
   "metadata": {},
   "outputs": [],
   "source": [
    "# Since payloads and cores are lists of size 1 we will also extract the single value in the list and replace the feature.\n",
    "data['cores'] = data['cores'].map(lambda x : x[0])\n",
    "data['payloads'] = data['payloads'].map(lambda x : x[0])"
   ]
  },
  {
   "cell_type": "code",
   "execution_count": 13,
   "id": "54056341-c1e2-4e89-8390-3286f7e714b4",
   "metadata": {},
   "outputs": [],
   "source": [
    "# We also want to convert the date_utc to a datetime datatype and then extracting the date leaving the time\n",
    "data['date'] = pd.to_datetime(data['date_utc']).dt.date"
   ]
  },
  {
   "cell_type": "code",
   "execution_count": 14,
   "id": "051ef747-e813-463a-a554-a3c1290d9d35",
   "metadata": {},
   "outputs": [],
   "source": [
    "# Using the date we will restrict the dates of the launches\n",
    "data = data[data['date'] <= datetime.date(2020, 11, 13)]"
   ]
  },
  {
   "cell_type": "code",
   "execution_count": 15,
   "id": "2d018433-25f1-4e7f-ba1f-852a91f7df53",
   "metadata": {},
   "outputs": [
    {
     "name": "stdout",
     "output_type": "stream",
     "text": [
      "94\n"
     ]
    }
   ],
   "source": [
    "# Call getBoosterVersion\n",
    "BoosterVersion = []\n",
    "getBoosterVersion(data)\n",
    "print(len(BoosterVersion))"
   ]
  },
  {
   "cell_type": "code",
   "execution_count": null,
   "id": "4dc96893-e089-42bb-a4d9-78fe96dc35ed",
   "metadata": {},
   "outputs": [],
   "source": [
    "# Call getLaunchSite\n",
    "Longitude = []\n",
    "Latitude = []\n",
    "LaunchSite = []\n",
    "getLaunchSite(data)\n",
    "print(len(Longitude),len(Latitude),len(LaunchSite))"
   ]
  },
  {
   "cell_type": "code",
   "execution_count": null,
   "id": "2c80fc45-7aeb-4653-a4ae-8dc2c4ce5203",
   "metadata": {},
   "outputs": [],
   "source": [
    "# Call getPayloadData\n",
    "PayloadMass = []\n",
    "Orbit = []\n",
    "getPayloadData(data)\n",
    "print(len(PayloadMass),len(Orbit))"
   ]
  },
  {
   "cell_type": "code",
   "execution_count": null,
   "id": "5c755a2b-2fec-46de-9f44-f959b3c6937c",
   "metadata": {},
   "outputs": [],
   "source": [
    "# Call getCoreData\n",
    "Outcome = []; Flights = []; GridFins = []; Reused = []; Legs = []; LandingPad = []\n",
    "Block = []; ReusedCount = []; Serial = []\n",
    "getCoreData(data)\n",
    "print(len(Outcome), len(Flights), len(GridFins), len(Reused), len(Legs), len(LandingPad))\n",
    "print(len(Block), len(ReusedCount), len(Serial))"
   ]
  },
  {
   "cell_type": "markdown",
   "id": "afb49195-3a92-44a8-a732-d3e3a5698d06",
   "metadata": {},
   "source": [
    "## Populate Dataframe"
   ]
  },
  {
   "cell_type": "code",
   "execution_count": null,
   "id": "188230b1-e9cd-4a54-bf51-0e40a10d8408",
   "metadata": {},
   "outputs": [],
   "source": [
    "launch_dict = { 'FlightNumber': list(data['flight_number']),\n",
    "                'Date': list(data['date']),\n",
    "                'BoosterVersion':BoosterVersion,\n",
    "                'PayloadMass':PayloadMass,\n",
    "                'Orbit':Orbit,\n",
    "                'LaunchSite':LaunchSite,\n",
    "                'Outcome':Outcome,\n",
    "                'Flights':Flights,\n",
    "                'GridFins':GridFins,\n",
    "                'Reused':Reused,\n",
    "                'Legs':Legs,\n",
    "                'LandingPad':LandingPad,\n",
    "                'Block':Block,\n",
    "                'ReusedCount':ReusedCount,\n",
    "                'Serial':Serial,\n",
    "                'Longitude': Longitude,\n",
    "                'Latitude': Latitude}"
   ]
  },
  {
   "cell_type": "code",
   "execution_count": null,
   "id": "4447eea1-f31e-4641-b5b3-898992e970cc",
   "metadata": {},
   "outputs": [],
   "source": [
    "# Check data lengths\n",
    "length = 0\n",
    "for item, value in launch_dict.items():\n",
    "    if length != len(value):\n",
    "        print(item, 'count', len(value))\n",
    "        length = len(value)"
   ]
  },
  {
   "cell_type": "code",
   "execution_count": null,
   "id": "30f186d0-8905-4d5a-bc68-0957d4ceeca0",
   "metadata": {},
   "outputs": [],
   "source": [
    "# Create a data from launch_dict\n",
    "df = pd.DataFrame(launch_dict)"
   ]
  },
  {
   "cell_type": "code",
   "execution_count": null,
   "id": "2e22421a-bb75-4ced-9325-9ab603372115",
   "metadata": {},
   "outputs": [],
   "source": [
    "# Show the head of the dataframe\n",
    "df.head()"
   ]
  },
  {
   "cell_type": "markdown",
   "id": "83e20b41-13b9-455d-8c40-47403a9a4b19",
   "metadata": {},
   "source": [
    "## Task 2: Filter the dataframe to only include `Falcon 9` launches"
   ]
  },
  {
   "cell_type": "code",
   "execution_count": null,
   "id": "c30022d3-88c8-42f9-9b35-69f3d5d199c3",
   "metadata": {},
   "outputs": [],
   "source": [
    "# Hint data['BoosterVersion']!='Falcon 1'\n",
    "data_falcon9 = df[df['BoosterVersion']=='Falcon 9']\n",
    "data_falcon9[:3]"
   ]
  },
  {
   "cell_type": "code",
   "execution_count": null,
   "id": "18233e74-dd64-4cd9-bb1e-ca719f1cdbce",
   "metadata": {},
   "outputs": [],
   "source": [
    "data_falcon9.shape"
   ]
  },
  {
   "cell_type": "code",
   "execution_count": null,
   "id": "dec708f4-83cc-4a53-9ff8-b404874805a2",
   "metadata": {},
   "outputs": [],
   "source": [
    "data_falcon9.loc[:,'FlightNumber'] = list(range(1, data_falcon9.shape[0]+1))\n",
    "data_falcon9[:3]"
   ]
  },
  {
   "cell_type": "markdown",
   "id": "59a40e5b-604f-4273-85ff-657b9cb0f49f",
   "metadata": {},
   "source": [
    "## Task 3: Dealing with Missing Values"
   ]
  },
  {
   "cell_type": "code",
   "execution_count": null,
   "id": "7d4052c4-4603-4097-be77-08e0a9d8b48d",
   "metadata": {},
   "outputs": [],
   "source": [
    "data_falcon9.isnull().sum()"
   ]
  },
  {
   "cell_type": "code",
   "execution_count": null,
   "id": "4c0153b7-56e9-40c0-b024-c26d29ebe013",
   "metadata": {},
   "outputs": [],
   "source": [
    "# Replace the np.nan values with its mean value\n",
    "data_falcon9.loc[:,'PayloadMass'] = np.round(data_falcon9['PayloadMass'].fillna(data_falcon9['PayloadMass'].mean()),1)"
   ]
  },
  {
   "cell_type": "code",
   "execution_count": null,
   "id": "cd69cee8-dfc4-484f-be5d-df87ef7800bf",
   "metadata": {},
   "outputs": [],
   "source": [
    "data_falcon9[:3]"
   ]
  },
  {
   "cell_type": "markdown",
   "id": "7b6adc62-bcaf-4061-b043-dd21c578393a",
   "metadata": {},
   "source": [
    "## Save Data to CSV File"
   ]
  },
  {
   "cell_type": "code",
   "execution_count": null,
   "id": "edf6513b-90d2-4497-9671-1f42a047d214",
   "metadata": {},
   "outputs": [],
   "source": [
    "data_falcon9.to_csv('dataset_part_1.csv', index=False)"
   ]
  }
 ],
 "metadata": {
  "kernelspec": {
   "display_name": "Python 3 (ipykernel)",
   "language": "python",
   "name": "python3"
  },
  "language_info": {
   "codemirror_mode": {
    "name": "ipython",
    "version": 3
   },
   "file_extension": ".py",
   "mimetype": "text/x-python",
   "name": "python",
   "nbconvert_exporter": "python",
   "pygments_lexer": "ipython3",
   "version": "3.12.3"
  }
 },
 "nbformat": 4,
 "nbformat_minor": 5
}
