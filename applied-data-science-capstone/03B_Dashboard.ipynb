{
 "cells": [
  {
   "cell_type": "markdown",
   "id": "8690bc8c-db07-47c2-b719-141d6f59b12a",
   "metadata": {},
   "source": [
    "# SpaceX Dashboard"
   ]
  },
  {
   "cell_type": "code",
   "execution_count": 1,
   "id": "c2a58d4d-925e-46bb-bcb8-7c74bf9639a0",
   "metadata": {},
   "outputs": [
    {
     "name": "stdout",
     "output_type": "stream",
     "text": [
      "Imported Libraries\n"
     ]
    }
   ],
   "source": [
    "import pandas as pd\n",
    "import numpy as np\n",
    "import dash\n",
    "from dash import html, dcc\n",
    "from dash.dependencies import Input, Output, State\n",
    "import matplotlib.pyplot as plt\n",
    "import plotly.graph_objects as go\n",
    "import plotly.express as px\n",
    "from dash import no_update\n",
    "import datetime as dt\n",
    "import seaborn as sns\n",
    "print('Imported Libraries')"
   ]
  },
  {
   "cell_type": "code",
   "execution_count": 2,
   "id": "f490ef85-4158-4bc2-b5bc-d1d0d8909b39",
   "metadata": {},
   "outputs": [
    {
     "name": "stdout",
     "output_type": "stream",
     "text": [
      "Created Dash App\n"
     ]
    }
   ],
   "source": [
    "#Create app\n",
    "app = dash.Dash(__name__)\n",
    "print('Created Dash App')"
   ]
  },
  {
   "cell_type": "code",
   "execution_count": 3,
   "id": "d9b3a92e-d80e-48b2-ae9f-be7469e866d2",
   "metadata": {},
   "outputs": [
    {
     "data": {
      "text/html": [
       "<div>\n",
       "<style scoped>\n",
       "    .dataframe tbody tr th:only-of-type {\n",
       "        vertical-align: middle;\n",
       "    }\n",
       "\n",
       "    .dataframe tbody tr th {\n",
       "        vertical-align: top;\n",
       "    }\n",
       "\n",
       "    .dataframe thead th {\n",
       "        text-align: right;\n",
       "    }\n",
       "</style>\n",
       "<table border=\"1\" class=\"dataframe\">\n",
       "  <thead>\n",
       "    <tr style=\"text-align: right;\">\n",
       "      <th></th>\n",
       "      <th>Unnamed: 0</th>\n",
       "      <th>Flight Number</th>\n",
       "      <th>Launch Site</th>\n",
       "      <th>class</th>\n",
       "      <th>Payload Mass (kg)</th>\n",
       "      <th>Booster Version</th>\n",
       "      <th>Booster Version Category</th>\n",
       "    </tr>\n",
       "  </thead>\n",
       "  <tbody>\n",
       "    <tr>\n",
       "      <th>0</th>\n",
       "      <td>0</td>\n",
       "      <td>1</td>\n",
       "      <td>CCAFS LC-40</td>\n",
       "      <td>0</td>\n",
       "      <td>0.0</td>\n",
       "      <td>F9 v1.0  B0003</td>\n",
       "      <td>v1.0</td>\n",
       "    </tr>\n",
       "    <tr>\n",
       "      <th>1</th>\n",
       "      <td>1</td>\n",
       "      <td>2</td>\n",
       "      <td>CCAFS LC-40</td>\n",
       "      <td>0</td>\n",
       "      <td>0.0</td>\n",
       "      <td>F9 v1.0  B0004</td>\n",
       "      <td>v1.0</td>\n",
       "    </tr>\n",
       "    <tr>\n",
       "      <th>2</th>\n",
       "      <td>2</td>\n",
       "      <td>3</td>\n",
       "      <td>CCAFS LC-40</td>\n",
       "      <td>0</td>\n",
       "      <td>525.0</td>\n",
       "      <td>F9 v1.0  B0005</td>\n",
       "      <td>v1.0</td>\n",
       "    </tr>\n",
       "    <tr>\n",
       "      <th>3</th>\n",
       "      <td>3</td>\n",
       "      <td>4</td>\n",
       "      <td>CCAFS LC-40</td>\n",
       "      <td>0</td>\n",
       "      <td>500.0</td>\n",
       "      <td>F9 v1.0  B0006</td>\n",
       "      <td>v1.0</td>\n",
       "    </tr>\n",
       "    <tr>\n",
       "      <th>4</th>\n",
       "      <td>4</td>\n",
       "      <td>5</td>\n",
       "      <td>CCAFS LC-40</td>\n",
       "      <td>0</td>\n",
       "      <td>677.0</td>\n",
       "      <td>F9 v1.0  B0007</td>\n",
       "      <td>v1.0</td>\n",
       "    </tr>\n",
       "  </tbody>\n",
       "</table>\n",
       "</div>"
      ],
      "text/plain": [
       "   Unnamed: 0  Flight Number  Launch Site  class  Payload Mass (kg)  \\\n",
       "0           0              1  CCAFS LC-40      0                0.0   \n",
       "1           1              2  CCAFS LC-40      0                0.0   \n",
       "2           2              3  CCAFS LC-40      0              525.0   \n",
       "3           3              4  CCAFS LC-40      0              500.0   \n",
       "4           4              5  CCAFS LC-40      0              677.0   \n",
       "\n",
       "  Booster Version Booster Version Category  \n",
       "0  F9 v1.0  B0003                     v1.0  \n",
       "1  F9 v1.0  B0004                     v1.0  \n",
       "2  F9 v1.0  B0005                     v1.0  \n",
       "3  F9 v1.0  B0006                     v1.0  \n",
       "4  F9 v1.0  B0007                     v1.0  "
      ]
     },
     "execution_count": 3,
     "metadata": {},
     "output_type": "execute_result"
    }
   ],
   "source": [
    "df=pd.read_csv(\"https://cf-courses-data.s3.us.cloud-object-storage.appdomain.cloud/IBM-DS0321EN-SkillsNetwork/datasets/spacex_launch_dash.csv\")\n",
    "df.head()"
   ]
  },
  {
   "cell_type": "code",
   "execution_count": 4,
   "id": "2216d382-3a6d-4b76-82cc-b6ec01b97cf2",
   "metadata": {},
   "outputs": [
    {
     "data": {
      "text/plain": [
       "array(['CCAFS LC-40', 'VAFB SLC-4E', 'KSC LC-39A', 'CCAFS SLC-40'],\n",
       "      dtype=object)"
      ]
     },
     "execution_count": 4,
     "metadata": {},
     "output_type": "execute_result"
    }
   ],
   "source": [
    "df['Launch Site'].unique()"
   ]
  },
  {
   "cell_type": "code",
   "execution_count": 5,
   "id": "e12b1798-35ab-4474-9fde-39aea02d87b0",
   "metadata": {},
   "outputs": [
    {
     "data": {
      "text/plain": [
       "(56, 7)"
      ]
     },
     "execution_count": 5,
     "metadata": {},
     "output_type": "execute_result"
    }
   ],
   "source": [
    "df.shape"
   ]
  },
  {
   "cell_type": "code",
   "execution_count": 6,
   "id": "7900c301-6034-45b9-9496-92c4305561fb",
   "metadata": {},
   "outputs": [],
   "source": [
    "df['Launch Site'].unique()\n",
    "df = df.assign(Outcome = df['class'].apply(lambda x: True if 1 else False))"
   ]
  },
  {
   "cell_type": "raw",
   "id": "fd2e0a97-e387-4bad-ac43-dc86eb1c0094",
   "metadata": {},
   "source": [
    "input_site = 'VAFB SLC-4E'\n",
    "\n",
    "data = df[df['Launch Site']==input_site]\n",
    "data = data.groupby(['class'])['class'].count().reset_index(name='count')\n",
    "data = data.assign(Outcome = data['class'].apply(lambda x: 'Success' if x==1 else 'Failure'))\n",
    "print(data)\n",
    "pie_fig = px.pie(data, values='count', names='Outcome', color_discrete_sequence=['#911111', '#189e2a'])\n",
    "pie_fig.update_layout(title=f'Total Successes Launch for Site  {input_site}')\n",
    "pie_fig.update_layout(height=400, width=1000)\n",
    "\n",
    "pie_fig.show()"
   ]
  },
  {
   "cell_type": "markdown",
   "id": "b92bf77e-628d-468c-b618-104414d37182",
   "metadata": {},
   "source": [
    "## TASK 1: Add a Launch Site Drop-down Input Component"
   ]
  },
  {
   "cell_type": "markdown",
   "id": "27092721-18ea-4302-a4a0-a09796a92125",
   "metadata": {},
   "source": [
    "## TASK 3: Add a Range Slider to Select Payload"
   ]
  },
  {
   "cell_type": "code",
   "execution_count": 7,
   "id": "93c63349-77f2-4638-ae93-a51f332d0d4c",
   "metadata": {},
   "outputs": [],
   "source": [
    "range_markers = dict(zip([i for i in range(0, 10001, 1000)], [str(i) for i in range(0, 20001, 1000)]))\n",
    "\n",
    "# Layout Section of Dash\n",
    "app.layout = html.Div(children=[html.H1('SpaceX Launch Records Dashboard', \n",
    "                                style={'textAlign': 'center', 'color': '#6b0303', 'font-size': 36}),\n",
    "    html.Div([\n",
    "        \n",
    "            # Launch Site Dropdown List\n",
    "            html.Div([\n",
    "                html.H2('Select Site:', style={'margin-right': '2em'}),\n",
    "                dcc.Dropdown(id='select-site',\n",
    "                             options=[{'label': i, 'value': i} for i in df['Launch Site'].unique()], \n",
    "                             value='Select Site',\n",
    "                             placeholder='All Sites', \n",
    "                             disabled=False)\n",
    "            ]),\n",
    "        \n",
    "            # Pie Chart Display\n",
    "            html.Div(id='pie-container', className='chart-grid'),\n",
    "\n",
    "            # Payload Range Slider\n",
    "            html.Div([\n",
    "                html.H2('Select Payload:', style={'margin-right': '2em'}),        \n",
    "                dcc.RangeSlider(id='select-payload',\n",
    "                                min=0, max=10000, step=1000,\n",
    "                                marks = range_markers,\n",
    "                                value=[1000,9000],\n",
    "                                disabled=False)\n",
    "            ]),\n",
    "        \n",
    "            # Scatter Chart Display\n",
    "            html.Div(id='scatter-container', className='chart-grid'),      \n",
    "        ])\n",
    "    ])"
   ]
  },
  {
   "cell_type": "markdown",
   "id": "bd077ea5-a07a-4714-9b76-b9736ed5f067",
   "metadata": {},
   "source": [
    "## TASK 2: Add a callback function to render success-pie-chart based on selected site dropdown"
   ]
  },
  {
   "cell_type": "code",
   "execution_count": 8,
   "id": "09bc24fd-f5eb-4ce8-8cc7-6d5a416f896d",
   "metadata": {},
   "outputs": [],
   "source": [
    "@app.callback( Output(component_id='pie-container', component_property='children'),\n",
    "               Input(component_id='select-site', component_property='value'))\n",
    "\n",
    "def display_charts(input_site):\n",
    "\n",
    "    # Pie Chart Launch Success by Site\n",
    "    data = df[[\"class\", 'Launch Site']]\n",
    "    if input_site == None:\n",
    "        data = data.groupby('Launch Site')['class'].sum().reset_index()\n",
    "        pie_fig = px.pie(data, values='class', names='Launch Site')\n",
    "        pie_fig.update_layout(title=f'Total Successes Launch by Site')\n",
    "    else:\n",
    "        data = df[df['Launch Site']==input_site]\n",
    "        data = data.groupby(['class'])['class'].count().reset_index(name='count')\n",
    "        data = data.assign(Outcome = data['class'].apply(lambda x: 'Success' if x==1 else 'Failure'))\n",
    "        pie_fig = px.pie(data, values='count', names='Outcome')\n",
    "        pie_fig.update_layout(title=f'Total Successes Launch for Site  {input_site}')\n",
    "        pie_fig.update_layout(height=400, width=1000)\n",
    "    \n",
    "    return [html.Div(className='chart-item', children=[dcc.Graph(figure=pie_fig)], style={'display': 'flex'})]\n"
   ]
  },
  {
   "cell_type": "markdown",
   "id": "f0f5dba3-0b48-4304-8d1d-68459e5c5712",
   "metadata": {},
   "source": [
    "## TASK 4: Add a callback function to render the success-payload-scatter-chart scatter plot"
   ]
  },
  {
   "cell_type": "code",
   "execution_count": 9,
   "id": "72dcf02b-5b41-4e07-899e-f043d4d9a8f4",
   "metadata": {},
   "outputs": [],
   "source": [
    "@app.callback( Output(component_id='scatter-container', component_property='children'),\n",
    "               Input(component_id='select-payload', component_property='value'))\n",
    "\n",
    "def display_charts(input_payload):\n",
    "\n",
    "    # Scatter Plot Launch Success by Payload\n",
    "    min_payload = input_payload[0]\n",
    "    max_payload = input_payload[1]\n",
    "    data = df[[\"Payload Mass (kg)\", \"class\", 'Booster Version Category']]\n",
    "    data = data[data['Payload Mass (kg)'] >= min_payload]\n",
    "    data = data[data['Payload Mass (kg)'] <= max_payload]\n",
    "    scatter_fig = px.scatter(data, x='Payload Mass (kg)', y='class', color='Booster Version Category', color_discrete_sequence=['red', 'blue', 'orange', 'green', 'purple']) \n",
    "    scatter_fig.update_layout(title=\"Correlation between Payload and Success for all Sites\", xaxis_title='Payload', yaxis_title=f'Success')\n",
    "    scatter_fig.update_traces(marker=dict(size=12))\n",
    "    scatter_fig.update_layout(height=400, width=1200)\n",
    "    \n",
    "    return [html.Div(className='chart-item', children=[dcc.Graph(figure=scatter_fig)], style={'display': 'flex'})]"
   ]
  },
  {
   "cell_type": "code",
   "execution_count": 10,
   "id": "982309d1-10c5-4608-833c-0d66e3f8fe98",
   "metadata": {},
   "outputs": [
    {
     "data": {
      "text/html": [
       "\n",
       "        <iframe\n",
       "            width=\"100%\"\n",
       "            height=\"650\"\n",
       "            src=\"http://127.0.0.1:8050/\"\n",
       "            frameborder=\"0\"\n",
       "            allowfullscreen\n",
       "            \n",
       "        ></iframe>\n",
       "        "
      ],
      "text/plain": [
       "<IPython.lib.display.IFrame at 0x208aa5871a0>"
      ]
     },
     "metadata": {},
     "output_type": "display_data"
    }
   ],
   "source": [
    "## Creates Dashboard at http://localhost:{port}/\n",
    "if __name__ == '__main__':\n",
    "    app.run_server(port=8050,\n",
    "                   mode='jupyterlab',\n",
    "                   dev_tools_ui=True,\n",
    "                   dev_tools_hot_reload=True, \n",
    "                   threaded=True)"
   ]
  }
 ],
 "metadata": {
  "kernelspec": {
   "display_name": "Python 3 (ipykernel)",
   "language": "python",
   "name": "python3"
  },
  "language_info": {
   "codemirror_mode": {
    "name": "ipython",
    "version": 3
   },
   "file_extension": ".py",
   "mimetype": "text/x-python",
   "name": "python",
   "nbconvert_exporter": "python",
   "pygments_lexer": "ipython3",
   "version": "3.12.3"
  }
 },
 "nbformat": 4,
 "nbformat_minor": 5
}
