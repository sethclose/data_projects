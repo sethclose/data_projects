{
 "cells": [
  {
   "cell_type": "markdown",
   "id": "6ab171e0-9157-4ce6-91b4-d10b176d9491",
   "metadata": {},
   "source": [
    "# Web Scraping"
   ]
  },
  {
   "cell_type": "code",
   "execution_count": 1,
   "id": "94583f42-0b87-4f6e-bcfe-f6b8898fadd4",
   "metadata": {},
   "outputs": [
    {
     "name": "stdout",
     "output_type": "stream",
     "text": [
      "Imported Libraries\n"
     ]
    }
   ],
   "source": [
    "import sys\n",
    "import requests\n",
    "from bs4 import BeautifulSoup\n",
    "import re\n",
    "import unicodedata\n",
    "import pandas as pd\n",
    "print(\"Imported Libraries\")"
   ]
  },
  {
   "cell_type": "markdown",
   "id": "b53ff52d-8d32-4311-8353-2f1e16a85406",
   "metadata": {},
   "source": [
    "## APIs"
   ]
  },
  {
   "cell_type": "code",
   "execution_count": 2,
   "id": "09a587fb-ec15-43cc-9757-39e376f72749",
   "metadata": {},
   "outputs": [],
   "source": [
    "def date_time(table_cells):\n",
    "    \"\"\"\n",
    "    This function returns the data and time from the HTML  table cell\n",
    "    Input: the  element of a table data cell extracts extra row\n",
    "    \"\"\"\n",
    "    return [data_time.strip() for data_time in list(table_cells.strings)][0:2]\n",
    "\n",
    "def booster_version(table_cells):\n",
    "    \"\"\"\n",
    "    This function returns the booster version from the HTML  table cell \n",
    "    Input: the  element of a table data cell extracts extra row\n",
    "    \"\"\"\n",
    "    out=''.join([booster_version for i,booster_version in enumerate( table_cells.strings) if i%2==0][0:-1])\n",
    "    return out\n",
    "\n",
    "def landing_status(table_cells):\n",
    "    \"\"\"\n",
    "    This function returns the landing status from the HTML table cell \n",
    "    Input: the  element of a table data cell extracts extra row\n",
    "    \"\"\"\n",
    "    out=[i for i in table_cells.strings][0]\n",
    "    return out\n",
    "\n",
    "\n",
    "def get_mass(table_cells):\n",
    "    mass=unicodedata.normalize(\"NFKD\", table_cells.text).strip()\n",
    "    if mass:\n",
    "        mass.find(\"kg\")\n",
    "        new_mass=mass[0:mass.find(\"kg\")+2]\n",
    "    else:\n",
    "        new_mass=0\n",
    "    return new_mass\n",
    "\n",
    "def extract_column_from_header(row):\n",
    "    \"\"\"\n",
    "    This function returns the landing status from the HTML table cell \n",
    "    Input: the  element of a table data cell extracts extra row\n",
    "    \"\"\"\n",
    "    if (row.br):\n",
    "        row.br.extract()\n",
    "    if row.a:\n",
    "        row.a.extract()\n",
    "    if row.sup:\n",
    "        row.sup.extract()\n",
    "    colunm_name = ' '.join(row.contents)\n",
    "    \n",
    "    # Filter the digit and empty names\n",
    "    if not(colunm_name.strip().isdigit()):\n",
    "        colunm_name = colunm_name.strip()\n",
    "        return colunm_name    \n"
   ]
  },
  {
   "cell_type": "markdown",
   "id": "85768b9d-fd52-4662-a0db-897e60e2fd97",
   "metadata": {},
   "source": [
    "## TASK 1: Request the Falcon9 Launch Wiki page from its URL"
   ]
  },
  {
   "cell_type": "code",
   "execution_count": 3,
   "id": "c65e3816-90d5-4973-8b30-fed138e535da",
   "metadata": {},
   "outputs": [
    {
     "data": {
      "text/plain": [
       "<title>List of Falcon 9 and Falcon Heavy launches - Wikipedia</title>"
      ]
     },
     "execution_count": 3,
     "metadata": {},
     "output_type": "execute_result"
    }
   ],
   "source": [
    "static_url = \"https://en.wikipedia.org/w/index.php?title=List_of_Falcon_9_and_Falcon_Heavy_launches&oldid=1027686922\"\n",
    "web_data = requests.get(static_url)\n",
    "soup = BeautifulSoup(web_data.content, \"html.parser\")\n",
    "soup.title"
   ]
  },
  {
   "cell_type": "markdown",
   "id": "da8dc735-22c8-40f3-a91c-0e8bd8a11925",
   "metadata": {},
   "source": [
    "## TASK 2: Extract all column/variable names from the HTML table header"
   ]
  },
  {
   "cell_type": "code",
   "execution_count": 4,
   "id": "61f7e036-7fe8-48f1-a832-a9840f49c0b7",
   "metadata": {},
   "outputs": [
    {
     "name": "stdout",
     "output_type": "stream",
     "text": [
      "['Flight No.', 'Launch site', 'Payload', 'Payload mass', 'Orbit', 'Customer', 'Launch outcome']\n"
     ]
    }
   ],
   "source": [
    "html_tables = soup.find_all('table')\n",
    "first_launch_table = html_tables[2]\n",
    "column_names = []\n",
    "for row in first_launch_table.find_all('th'):\n",
    "    column_name = extract_column_from_header(row)\n",
    "    if column_name != None and len(column_name) > 0 and column_name != 'Date and time ( )':\n",
    "        column_names.append(column_name)\n",
    "print(column_names)"
   ]
  },
  {
   "cell_type": "markdown",
   "id": "fe16ab6e-462b-4d78-b723-f46275d4a58a",
   "metadata": {},
   "source": [
    "## TASK 3: Create a data frame by parsing the launch HTML tables"
   ]
  },
  {
   "cell_type": "code",
   "execution_count": 5,
   "id": "8a5e0103-0f48-47cb-8af9-aec3cb554123",
   "metadata": {},
   "outputs": [],
   "source": [
    "launch_dict= dict.fromkeys(column_names)\n",
    "\n",
    "launch_dict['Flight No.'] = []\n",
    "launch_dict['Launch site'] = []\n",
    "launch_dict['Payload'] = []\n",
    "launch_dict['Payload mass'] = []\n",
    "launch_dict['Orbit'] = []\n",
    "launch_dict['Customer'] = []\n",
    "launch_dict['Launch outcome'] = []\n",
    "launch_dict['Version Booster']=[]\n",
    "launch_dict['Booster landing']=[]\n",
    "launch_dict['Date']=[]\n",
    "launch_dict['Time']=[]"
   ]
  },
  {
   "cell_type": "code",
   "execution_count": 6,
   "id": "26be951a-70df-47a6-a348-da529f6f4e87",
   "metadata": {},
   "outputs": [],
   "source": [
    "for table_number, table in enumerate(soup.find_all('table',\"wikitable plainrowheaders collapsible\")):\n",
    "\n",
    "    for rows in table.find_all(\"tr\"):\n",
    "\n",
    "        row = rows.find_all('td')\n",
    "        if rows.th:\n",
    "            if rows.th.string:\n",
    "                flight_number=rows.th.string.strip()\n",
    "                flag=flight_number.isdigit()\n",
    "        else:\n",
    "            flag=False\n",
    "\n",
    "        if flag:\n",
    "\n",
    "            launch_dict['Flight No.'].append(flight_number)\n",
    "            \n",
    "            datatimelist=date_time(row[0])\n",
    "            date = datatimelist[0].strip(',')\n",
    "            time = datatimelist[1]\n",
    "            launch_dict['Date'].append(date)\n",
    "            launch_dict['Time'].append(time)\n",
    "              \n",
    "            bv = booster_version(row[1])\n",
    "            if not(bv):\n",
    "                bv = row[1].a.string\n",
    "            launch_dict['Version Booster'].append(bv)\n",
    "            \n",
    "            launch_site = row[2].a.string\n",
    "            launch_dict['Launch site'].append(launch_site)\n",
    "\n",
    "            payload = row[3].a.string\n",
    "            launch_dict['Payload'].append(payload)\n",
    "\n",
    "            payload_mass = get_mass(row[4])\n",
    "            launch_dict['Payload mass'].append(payload_mass)\n",
    "\n",
    "            orbit = row[5].a.string\n",
    "            launch_dict['Orbit'].append(orbit)\n",
    "\n",
    "            if row[6].a != None:\n",
    "                customer = row[6].a.string\n",
    "            else:\n",
    "                customer = None\n",
    "            launch_dict['Customer'].append(customer)\n",
    "\n",
    "            launch_outcome = list(row[7].strings)[0]\n",
    "            launch_dict['Launch outcome'].append(launch_outcome)\n",
    "\n",
    "            booster_landing = landing_status(row[8])\n",
    "            launch_dict['Booster landing'].append(booster_landing)"
   ]
  },
  {
   "cell_type": "markdown",
   "id": "899c1e37-41ce-4cea-a994-226e7d27be04",
   "metadata": {},
   "source": [
    "## Verify Data"
   ]
  },
  {
   "cell_type": "code",
   "execution_count": 7,
   "id": "dfbe9fee-6021-49bc-a810-a52a5562f539",
   "metadata": {},
   "outputs": [],
   "source": [
    "df = pd.DataFrame({ key:pd.Series(value) for key, value in launch_dict.items() })"
   ]
  },
  {
   "cell_type": "code",
   "execution_count": 8,
   "id": "38951904-0fed-4b97-9a24-e782b1aa68b5",
   "metadata": {},
   "outputs": [],
   "source": [
    "df = df.replace(r'\\r+|\\n+|\\t+','', regex=True)"
   ]
  },
  {
   "cell_type": "code",
   "execution_count": 9,
   "id": "9e9bfe45-f2f2-4fe2-a78b-0af69ef8b916",
   "metadata": {},
   "outputs": [
    {
     "name": "stdout",
     "output_type": "stream",
     "text": [
      "    Flight No. Launch site                               Payload Payload mass  \\\n",
      "0            1       CCAFS  Dragon Spacecraft Qualification Unit            0   \n",
      "1            2       CCAFS                                Dragon            0   \n",
      "2            3       CCAFS                                Dragon       525 kg   \n",
      "3            4       CCAFS                          SpaceX CRS-1     4,700 kg   \n",
      "4            5       CCAFS                          SpaceX CRS-2     4,877 kg   \n",
      "..         ...         ...                                   ...          ...   \n",
      "116        117       CCSFS                              Starlink    15,600 kg   \n",
      "117        118         KSC                              Starlink   ~14,000 kg   \n",
      "118        119       CCSFS                              Starlink    15,600 kg   \n",
      "119        120         KSC                         SpaceX CRS-22     3,328 kg   \n",
      "120        121       CCSFS                                 SXM-8     7,000 kg   \n",
      "\n",
      "    Orbit   Customer Launch outcome Version Booster Booster landing  \\\n",
      "0     LEO     SpaceX        Success  F9 v1.0B0003.1         Failure   \n",
      "1     LEO       NASA        Success  F9 v1.0B0004.1         Failure   \n",
      "2     LEO       NASA        Success  F9 v1.0B0005.1      No attempt   \n",
      "3     LEO       NASA        Success  F9 v1.0B0006.1      No attempt   \n",
      "4     LEO       NASA        Success  F9 v1.0B0007.1      No attempt   \n",
      "..    ...        ...            ...             ...             ...   \n",
      "116   LEO     SpaceX        Success   F9 B5B1051.10         Success   \n",
      "117   LEO     SpaceX        Success    F9 B5B1058.8         Success   \n",
      "118   LEO     SpaceX        Success    F9 B5B1063.2         Success   \n",
      "119   LEO       NASA        Success    F9 B5B1067.1         Success   \n",
      "120   GTO  Sirius XM        Success           F9 B5         Success   \n",
      "\n",
      "                Date   Time  \n",
      "0        4 June 2010  18:45  \n",
      "1    8 December 2010  15:43  \n",
      "2        22 May 2012  07:44  \n",
      "3     8 October 2012  00:35  \n",
      "4       1 March 2013  15:10  \n",
      "..               ...    ...  \n",
      "116       9 May 2021  06:42  \n",
      "117      15 May 2021  22:56  \n",
      "118      26 May 2021  18:59  \n",
      "119      3 June 2021  17:29  \n",
      "120      6 June 2021  04:26  \n",
      "\n",
      "[121 rows x 11 columns]\n"
     ]
    }
   ],
   "source": [
    "with pd.option_context('display.max_rows', 15,\n",
    "                       'display.max_columns', None,\n",
    "                       'display.precision', 5,\n",
    "                       ):\n",
    "    print(df)"
   ]
  },
  {
   "cell_type": "markdown",
   "id": "abd9506e-2ec7-424c-898d-25d64317b2ec",
   "metadata": {},
   "source": [
    "## Save Data to CSV File"
   ]
  },
  {
   "cell_type": "code",
   "execution_count": 10,
   "id": "6f9694b0-2f98-4c9d-8d31-4714986a94de",
   "metadata": {},
   "outputs": [],
   "source": [
    "df.to_csv('spacex_web_scraped.csv', index=False)"
   ]
  }
 ],
 "metadata": {
  "kernelspec": {
   "display_name": "Python 3 (ipykernel)",
   "language": "python",
   "name": "python3"
  },
  "language_info": {
   "codemirror_mode": {
    "name": "ipython",
    "version": 3
   },
   "file_extension": ".py",
   "mimetype": "text/x-python",
   "name": "python",
   "nbconvert_exporter": "python",
   "pygments_lexer": "ipython3",
   "version": "3.12.3"
  }
 },
 "nbformat": 4,
 "nbformat_minor": 5
}
