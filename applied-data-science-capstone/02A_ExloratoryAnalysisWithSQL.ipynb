{
 "cells": [
  {
   "cell_type": "markdown",
   "id": "9314faa8-6042-4fee-ac7b-a402b98dc56a",
   "metadata": {},
   "source": [
    "# Exloratory Analysis with SQL"
   ]
  },
  {
   "cell_type": "code",
   "execution_count": 1,
   "id": "7181f90e-e8a3-4203-a643-3859ee6b32b3",
   "metadata": {},
   "outputs": [],
   "source": [
    "import sys\n",
    "sys.path\n",
    "sys.path.append('C:\\\\Users\\\\clse5199\\\\AppData\\\\Local\\\\Packages\\\\PythonSoftwareFoundation.Python.3.7_qbz5n2kfra8p0\\\\LocalCache\\\\local-packages\\\\Python37\\\\site-packages')"
   ]
  },
  {
   "cell_type": "code",
   "execution_count": 2,
   "id": "0f27fe4c-e638-4d1c-a1b9-2699b68a0c53",
   "metadata": {},
   "outputs": [],
   "source": [
    "%load_ext sql"
   ]
  },
  {
   "cell_type": "code",
   "execution_count": 3,
   "id": "bdcddeac-59bc-4f7b-971a-58e1358e09e4",
   "metadata": {},
   "outputs": [],
   "source": [
    "import csv, sqlite3\n",
    "con = sqlite3.connect(\"my_data1.db\")\n",
    "cur = con.cursor()"
   ]
  },
  {
   "cell_type": "code",
   "execution_count": 4,
   "id": "210d5a16-fd01-4cea-a1a6-d37ae10b1042",
   "metadata": {},
   "outputs": [
    {
     "data": {
      "text/html": [
       "<span style=\"None\">Connecting to &#x27;sqlite:///my_data1.db&#x27;</span>"
      ],
      "text/plain": [
       "Connecting to 'sqlite:///my_data1.db'"
      ]
     },
     "metadata": {},
     "output_type": "display_data"
    }
   ],
   "source": [
    "%sql sqlite:///my_data1.db"
   ]
  },
  {
   "cell_type": "code",
   "execution_count": 5,
   "id": "bba5287b-88dc-4a9c-879d-9fce2fa27f3b",
   "metadata": {},
   "outputs": [
    {
     "data": {
      "text/plain": [
       "101"
      ]
     },
     "execution_count": 5,
     "metadata": {},
     "output_type": "execute_result"
    }
   ],
   "source": [
    "import pandas as pd\n",
    "df = pd.read_csv(\"https://cf-courses-data.s3.us.cloud-object-storage.appdomain.cloud/IBM-DS0321EN-SkillsNetwork/labs/module_2/data/Spacex.csv\")\n",
    "df.to_sql(\"SPACEXTBL\", con, if_exists='replace', index=False, method=\"multi\")"
   ]
  },
  {
   "cell_type": "code",
   "execution_count": 6,
   "id": "01c9fcf0-d820-4b55-bff1-d619ca2695d1",
   "metadata": {},
   "outputs": [
    {
     "data": {
      "text/html": [
       "<span style=\"None\">Running query in &#x27;sqlite:///my_data1.db&#x27;</span>"
      ],
      "text/plain": [
       "Running query in 'sqlite:///my_data1.db'"
      ]
     },
     "metadata": {},
     "output_type": "display_data"
    },
    {
     "data": {
      "text/html": [
       "<table>\n",
       "    <thead>\n",
       "        <tr>\n",
       "        </tr>\n",
       "    </thead>\n",
       "    <tbody>\n",
       "    </tbody>\n",
       "</table>"
      ],
      "text/plain": [
       "++\n",
       "||\n",
       "++\n",
       "++"
      ]
     },
     "execution_count": 6,
     "metadata": {},
     "output_type": "execute_result"
    }
   ],
   "source": [
    "%sql create table if not exists SPACEXTABLE as select * from SPACEXTBL where Date is not null"
   ]
  },
  {
   "cell_type": "code",
   "execution_count": 7,
   "id": "992c23d6-2c8c-4ae2-84f0-8c6b1ec43838",
   "metadata": {},
   "outputs": [
    {
     "data": {
      "text/html": [
       "<span style=\"None\">Running query in &#x27;sqlite:///my_data1.db&#x27;</span>"
      ],
      "text/plain": [
       "Running query in 'sqlite:///my_data1.db'"
      ]
     },
     "metadata": {},
     "output_type": "display_data"
    },
    {
     "data": {
      "text/html": [
       "<table>\n",
       "    <thead>\n",
       "        <tr>\n",
       "            <th>COUNT(*)</th>\n",
       "        </tr>\n",
       "    </thead>\n",
       "    <tbody>\n",
       "        <tr>\n",
       "            <td>101</td>\n",
       "        </tr>\n",
       "    </tbody>\n",
       "</table>"
      ],
      "text/plain": [
       "+----------+\n",
       "| COUNT(*) |\n",
       "+----------+\n",
       "|   101    |\n",
       "+----------+"
      ]
     },
     "execution_count": 7,
     "metadata": {},
     "output_type": "execute_result"
    }
   ],
   "source": [
    "%sql SELECT COUNT(*) FROM SPACEXTABLE"
   ]
  },
  {
   "cell_type": "markdown",
   "id": "dcadd4a8-9175-4b09-800e-c5fbd5025d34",
   "metadata": {},
   "source": [
    "### Task 1\n",
    "##### Display the names of the unique launch sites  in the space mission"
   ]
  },
  {
   "cell_type": "code",
   "execution_count": 8,
   "id": "a8f04482-08f6-400a-a5c3-73f12c63b6ce",
   "metadata": {},
   "outputs": [
    {
     "data": {
      "text/html": [
       "<span style=\"None\">Running query in &#x27;sqlite:///my_data1.db&#x27;</span>"
      ],
      "text/plain": [
       "Running query in 'sqlite:///my_data1.db'"
      ]
     },
     "metadata": {},
     "output_type": "display_data"
    },
    {
     "data": {
      "text/html": [
       "<table>\n",
       "    <thead>\n",
       "        <tr>\n",
       "            <th>UNIQUE LAUNCH SITES</th>\n",
       "        </tr>\n",
       "    </thead>\n",
       "    <tbody>\n",
       "        <tr>\n",
       "            <td>CCAFS LC-40</td>\n",
       "        </tr>\n",
       "        <tr>\n",
       "            <td>CCAFS SLC-40</td>\n",
       "        </tr>\n",
       "        <tr>\n",
       "            <td>KSC LC-39A</td>\n",
       "        </tr>\n",
       "        <tr>\n",
       "            <td>VAFB SLC-4E</td>\n",
       "        </tr>\n",
       "    </tbody>\n",
       "</table>"
      ],
      "text/plain": [
       "+---------------------+\n",
       "| UNIQUE LAUNCH SITES |\n",
       "+---------------------+\n",
       "|     CCAFS LC-40     |\n",
       "|     CCAFS SLC-40    |\n",
       "|      KSC LC-39A     |\n",
       "|     VAFB SLC-4E     |\n",
       "+---------------------+"
      ]
     },
     "execution_count": 8,
     "metadata": {},
     "output_type": "execute_result"
    }
   ],
   "source": [
    "%%sql \n",
    "SELECT DISTINCT LAUNCH_SITE AS 'UNIQUE LAUNCH SITES'\n",
    "FROM SPACEXTABLE \n",
    "ORDER BY LAUNCH_SITE"
   ]
  },
  {
   "cell_type": "markdown",
   "id": "4f6f007d-4d42-4fe4-8d0b-bb270a0bc80d",
   "metadata": {},
   "source": [
    "\n",
    "### Task 2\n",
    "\n",
    "\n",
    "#####  Display 5 records where launch sites begin with the string 'CCA' "
   ]
  },
  {
   "cell_type": "code",
   "execution_count": 9,
   "id": "8d6e31dc-85ff-47d7-b068-8369c1df0c94",
   "metadata": {},
   "outputs": [
    {
     "data": {
      "text/html": [
       "<span style=\"None\">Running query in &#x27;sqlite:///my_data1.db&#x27;</span>"
      ],
      "text/plain": [
       "Running query in 'sqlite:///my_data1.db'"
      ]
     },
     "metadata": {},
     "output_type": "display_data"
    },
    {
     "data": {
      "text/html": [
       "<table>\n",
       "    <thead>\n",
       "        <tr>\n",
       "            <th>Date</th>\n",
       "            <th>Time (UTC)</th>\n",
       "            <th>Booster_Version</th>\n",
       "            <th>Launch_Site</th>\n",
       "            <th>Payload</th>\n",
       "            <th>PAYLOAD_MASS__KG_</th>\n",
       "            <th>Orbit</th>\n",
       "            <th>Customer</th>\n",
       "            <th>Mission_Outcome</th>\n",
       "            <th>Landing_Outcome</th>\n",
       "        </tr>\n",
       "    </thead>\n",
       "    <tbody>\n",
       "        <tr>\n",
       "            <td>2020-11-25</td>\n",
       "            <td>2:13:00</td>\n",
       "            <td>F9 B5 B1049.7 </td>\n",
       "            <td>CCAFS SLC-40</td>\n",
       "            <td>Starlink 15 v1.0, SpaceX CRS-21</td>\n",
       "            <td>15600</td>\n",
       "            <td>LEO</td>\n",
       "            <td>SpaceX</td>\n",
       "            <td>Success</td>\n",
       "            <td>Success</td>\n",
       "        </tr>\n",
       "        <tr>\n",
       "            <td>2020-11-05</td>\n",
       "            <td>23:24:23</td>\n",
       "            <td>F9 B5B1062.1</td>\n",
       "            <td>CCAFS SLC-40</td>\n",
       "            <td>GPS III-04 , Crew-1</td>\n",
       "            <td>4311</td>\n",
       "            <td>MEO</td>\n",
       "            <td>USSF</td>\n",
       "            <td>Success</td>\n",
       "            <td>Success</td>\n",
       "        </tr>\n",
       "        <tr>\n",
       "            <td>2020-10-24</td>\n",
       "            <td>15:31:34</td>\n",
       "            <td>F9 B5 B1060.3</td>\n",
       "            <td>CCAFS SLC-40</td>\n",
       "            <td>Starlink 14 v1.0, GPS III-04  </td>\n",
       "            <td>15600</td>\n",
       "            <td>LEO</td>\n",
       "            <td>SpaceX</td>\n",
       "            <td>Success</td>\n",
       "            <td>Success</td>\n",
       "        </tr>\n",
       "        <tr>\n",
       "            <td>2020-08-30</td>\n",
       "            <td>23:18:00</td>\n",
       "            <td>F9 B5 B1059.4</td>\n",
       "            <td>CCAFS SLC-40</td>\n",
       "            <td>SAOCOM 1B, GNOMES 1, Tyvak-0172</td>\n",
       "            <td>3130</td>\n",
       "            <td>SSO</td>\n",
       "            <td>CONAE, PlanetIQ, SpaceX</td>\n",
       "            <td>Success</td>\n",
       "            <td>Success</td>\n",
       "        </tr>\n",
       "        <tr>\n",
       "            <td>2020-08-18</td>\n",
       "            <td>14:31:00</td>\n",
       "            <td>F9 B5 B1049.6</td>\n",
       "            <td>CCAFS SLC-40</td>\n",
       "            <td>Starlink 10 v1.0, SkySat-19, -20, -21, SAOCOM 1B </td>\n",
       "            <td>15440</td>\n",
       "            <td>LEO</td>\n",
       "            <td>SpaceX, Planet Labs, PlanetIQ</td>\n",
       "            <td>Success</td>\n",
       "            <td>Success</td>\n",
       "        </tr>\n",
       "    </tbody>\n",
       "</table>"
      ],
      "text/plain": [
       "+------------+------------+-----------------+--------------+---------------------------------------------------+-------------------+-------+-------------------------------+-----------------+-----------------+\n",
       "|    Date    | Time (UTC) | Booster_Version | Launch_Site  |                      Payload                      | PAYLOAD_MASS__KG_ | Orbit |            Customer           | Mission_Outcome | Landing_Outcome |\n",
       "+------------+------------+-----------------+--------------+---------------------------------------------------+-------------------+-------+-------------------------------+-----------------+-----------------+\n",
       "| 2020-11-25 |  2:13:00   |  F9 B5 B1049.7  | CCAFS SLC-40 |          Starlink 15 v1.0, SpaceX CRS-21          |       15600       |  LEO  |             SpaceX            |     Success     |     Success     |\n",
       "| 2020-11-05 |  23:24:23  |   F9 B5B1062.1  | CCAFS SLC-40 |                GPS III-04 , Crew-1                |        4311       |  MEO  |              USSF             |     Success     |     Success     |\n",
       "| 2020-10-24 |  15:31:34  |  F9 B5 B1060.3  | CCAFS SLC-40 |           Starlink 14 v1.0, GPS III-04            |       15600       |  LEO  |             SpaceX            |     Success     |     Success     |\n",
       "| 2020-08-30 |  23:18:00  |  F9 B5 B1059.4  | CCAFS SLC-40 |          SAOCOM 1B, GNOMES 1, Tyvak-0172          |        3130       |  SSO  |    CONAE, PlanetIQ, SpaceX    |     Success     |     Success     |\n",
       "| 2020-08-18 |  14:31:00  |  F9 B5 B1049.6  | CCAFS SLC-40 | Starlink 10 v1.0, SkySat-19, -20, -21, SAOCOM 1B  |       15440       |  LEO  | SpaceX, Planet Labs, PlanetIQ |     Success     |     Success     |\n",
       "+------------+------------+-----------------+--------------+---------------------------------------------------+-------------------+-------+-------------------------------+-----------------+-----------------+"
      ]
     },
     "execution_count": 9,
     "metadata": {},
     "output_type": "execute_result"
    }
   ],
   "source": [
    "%%sql \n",
    "SELECT *\n",
    "FROM SPACEXTABLE \n",
    "WHERE LAUNCH_SITE LIKE 'CCA%'  \n",
    "ORDER BY DATE DESC \n",
    "LIMIT 5"
   ]
  },
  {
   "cell_type": "markdown",
   "id": "4ce494d2-2884-4811-bca3-2cc52f4fe5f0",
   "metadata": {},
   "source": [
    "### Task 3\n",
    "\n",
    "\n",
    "\n",
    "\n",
    "##### Display the total payload mass carried by boosters launched by NASA (CRS)"
   ]
  },
  {
   "cell_type": "code",
   "execution_count": 10,
   "id": "bb56557f-0335-415d-a112-ce95378d196a",
   "metadata": {},
   "outputs": [
    {
     "data": {
      "text/html": [
       "<span style=\"None\">Running query in &#x27;sqlite:///my_data1.db&#x27;</span>"
      ],
      "text/plain": [
       "Running query in 'sqlite:///my_data1.db'"
      ]
     },
     "metadata": {},
     "output_type": "display_data"
    },
    {
     "data": {
      "text/html": [
       "<table>\n",
       "    <thead>\n",
       "        <tr>\n",
       "            <th>TOTAL PAYLOAD MASS BY NASA (CRS)</th>\n",
       "        </tr>\n",
       "    </thead>\n",
       "    <tbody>\n",
       "        <tr>\n",
       "            <td>45596</td>\n",
       "        </tr>\n",
       "    </tbody>\n",
       "</table>"
      ],
      "text/plain": [
       "+----------------------------------+\n",
       "| TOTAL PAYLOAD MASS BY NASA (CRS) |\n",
       "+----------------------------------+\n",
       "|              45596               |\n",
       "+----------------------------------+"
      ]
     },
     "execution_count": 10,
     "metadata": {},
     "output_type": "execute_result"
    }
   ],
   "source": [
    "%%sql \n",
    "SELECT SUM(PAYLOAD_MASS__KG_) AS 'TOTAL PAYLOAD MASS BY NASA (CRS)'\n",
    "FROM SPACEXTABLE \n",
    "WHERE CUSTOMER = 'NASA (CRS)'"
   ]
  },
  {
   "cell_type": "markdown",
   "id": "3aef7830-e76e-4b49-aa1c-16b854f00664",
   "metadata": {},
   "source": [
    "### Task 4\n",
    "\n",
    "\n",
    "\n",
    "\n",
    "##### Display average payload mass carried by booster version F9 v1.1"
   ]
  },
  {
   "cell_type": "code",
   "execution_count": 11,
   "id": "00873c54-e14b-41a2-9a4e-b32eac687203",
   "metadata": {},
   "outputs": [
    {
     "data": {
      "text/html": [
       "<span style=\"None\">Running query in &#x27;sqlite:///my_data1.db&#x27;</span>"
      ],
      "text/plain": [
       "Running query in 'sqlite:///my_data1.db'"
      ]
     },
     "metadata": {},
     "output_type": "display_data"
    },
    {
     "data": {
      "text/html": [
       "<table>\n",
       "    <thead>\n",
       "        <tr>\n",
       "            <th>AVERAGE PAYLOAD MASS BY F9 V1.1</th>\n",
       "        </tr>\n",
       "    </thead>\n",
       "    <tbody>\n",
       "        <tr>\n",
       "            <td>2928.4</td>\n",
       "        </tr>\n",
       "    </tbody>\n",
       "</table>"
      ],
      "text/plain": [
       "+---------------------------------+\n",
       "| AVERAGE PAYLOAD MASS BY F9 V1.1 |\n",
       "+---------------------------------+\n",
       "|              2928.4             |\n",
       "+---------------------------------+"
      ]
     },
     "execution_count": 11,
     "metadata": {},
     "output_type": "execute_result"
    }
   ],
   "source": [
    "%%sql \n",
    "SELECT AVG(PAYLOAD_MASS__KG_) AS 'AVERAGE PAYLOAD MASS BY F9 V1.1'\n",
    "FROM SPACEXTABLE \n",
    "WHERE BOOSTER_VERSION = 'F9 v1.1'"
   ]
  },
  {
   "cell_type": "markdown",
   "id": "32d0b10d-5e81-4f1f-8660-6085796b1370",
   "metadata": {},
   "source": [
    "### Task 5\n",
    "\n",
    "##### List the date when the first succesful landing outcome in ground pad was acheived.\n",
    "\n",
    "\n",
    "_Hint:Use min function_ "
   ]
  },
  {
   "cell_type": "code",
   "execution_count": 12,
   "id": "d1aea547-3a0e-4e07-8087-f3cf918c6848",
   "metadata": {},
   "outputs": [
    {
     "data": {
      "text/html": [
       "<span style=\"None\">Running query in &#x27;sqlite:///my_data1.db&#x27;</span>"
      ],
      "text/plain": [
       "Running query in 'sqlite:///my_data1.db'"
      ]
     },
     "metadata": {},
     "output_type": "display_data"
    },
    {
     "data": {
      "text/html": [
       "<table>\n",
       "    <thead>\n",
       "        <tr>\n",
       "            <th>FIRST SUCCESSFUL GROUND PAD LANDING</th>\n",
       "        </tr>\n",
       "    </thead>\n",
       "    <tbody>\n",
       "        <tr>\n",
       "            <td>2015-12-22</td>\n",
       "        </tr>\n",
       "    </tbody>\n",
       "</table>"
      ],
      "text/plain": [
       "+-------------------------------------+\n",
       "| FIRST SUCCESSFUL GROUND PAD LANDING |\n",
       "+-------------------------------------+\n",
       "|              2015-12-22             |\n",
       "+-------------------------------------+"
      ]
     },
     "execution_count": 12,
     "metadata": {},
     "output_type": "execute_result"
    }
   ],
   "source": [
    "%%sql \n",
    "SELECT MIN(DATE) AS 'FIRST SUCCESSFUL GROUND PAD LANDING' \n",
    "FROM SPACEXTABLE \n",
    "WHERE LANDING_OUTCOME LIKE 'Success (ground pad)' "
   ]
  },
  {
   "cell_type": "markdown",
   "id": "0534c432-faac-4181-9bad-90a1a9ed3686",
   "metadata": {},
   "source": [
    "### Task 6\n",
    "\n",
    "##### List the names of the boosters which have success in drone ship and have payload mass greater than 4000 but less than 6000\n"
   ]
  },
  {
   "cell_type": "code",
   "execution_count": 13,
   "id": "0b148de4-4b68-483f-931a-410d4d1aee61",
   "metadata": {},
   "outputs": [
    {
     "data": {
      "text/html": [
       "<span style=\"None\">Running query in &#x27;sqlite:///my_data1.db&#x27;</span>"
      ],
      "text/plain": [
       "Running query in 'sqlite:///my_data1.db'"
      ]
     },
     "metadata": {},
     "output_type": "display_data"
    },
    {
     "data": {
      "text/html": [
       "<table>\n",
       "    <thead>\n",
       "        <tr>\n",
       "            <th>SUCCESSFUL DRONE SHIP LANDING BOOSTERS</th>\n",
       "        </tr>\n",
       "    </thead>\n",
       "    <tbody>\n",
       "        <tr>\n",
       "            <td>F9 FT B1022</td>\n",
       "        </tr>\n",
       "        <tr>\n",
       "            <td>F9 FT B1026</td>\n",
       "        </tr>\n",
       "        <tr>\n",
       "            <td>F9 FT  B1021.2</td>\n",
       "        </tr>\n",
       "        <tr>\n",
       "            <td>F9 FT  B1031.2</td>\n",
       "        </tr>\n",
       "    </tbody>\n",
       "</table>"
      ],
      "text/plain": [
       "+----------------------------------------+\n",
       "| SUCCESSFUL DRONE SHIP LANDING BOOSTERS |\n",
       "+----------------------------------------+\n",
       "|              F9 FT B1022               |\n",
       "|              F9 FT B1026               |\n",
       "|             F9 FT  B1021.2             |\n",
       "|             F9 FT  B1031.2             |\n",
       "+----------------------------------------+"
      ]
     },
     "execution_count": 13,
     "metadata": {},
     "output_type": "execute_result"
    }
   ],
   "source": [
    "%%sql\n",
    "SELECT DISTINCT BOOSTER_VERSION AS 'SUCCESSFUL DRONE SHIP LANDING BOOSTERS'\n",
    "FROM SPACEXTABLE \n",
    "WHERE LANDING_OUTCOME = 'Success (drone ship)'\n",
    "  AND PAYLOAD_MASS__KG_ > 4000\n",
    "  AND PAYLOAD_MASS__KG_ < 6000"
   ]
  },
  {
   "cell_type": "markdown",
   "id": "a36e5e58-82e3-472c-b71b-9216f5b3cb37",
   "metadata": {},
   "source": [
    "### Task 7\n",
    "\n",
    "\n",
    "\n",
    "\n",
    "##### List the total number of successful and failure mission outcomes"
   ]
  },
  {
   "cell_type": "code",
   "execution_count": 14,
   "id": "3bdf314c-0c7c-4392-9846-53b5213f0dc3",
   "metadata": {},
   "outputs": [
    {
     "data": {
      "text/html": [
       "<span style=\"None\">Running query in &#x27;sqlite:///my_data1.db&#x27;</span>"
      ],
      "text/plain": [
       "Running query in 'sqlite:///my_data1.db'"
      ]
     },
     "metadata": {},
     "output_type": "display_data"
    },
    {
     "data": {
      "text/html": [
       "<table>\n",
       "    <thead>\n",
       "        <tr>\n",
       "            <th>COUNT(DISTINCT MISSION_OUTCOME)</th>\n",
       "        </tr>\n",
       "    </thead>\n",
       "    <tbody>\n",
       "        <tr>\n",
       "            <td>4</td>\n",
       "        </tr>\n",
       "    </tbody>\n",
       "</table>"
      ],
      "text/plain": [
       "+---------------------------------+\n",
       "| COUNT(DISTINCT MISSION_OUTCOME) |\n",
       "+---------------------------------+\n",
       "|                4                |\n",
       "+---------------------------------+"
      ]
     },
     "execution_count": 14,
     "metadata": {},
     "output_type": "execute_result"
    }
   ],
   "source": [
    "%sql SELECT COUNT(DISTINCT MISSION_OUTCOME) FROM SPACEXTABLE"
   ]
  },
  {
   "cell_type": "markdown",
   "id": "07f35152-16c7-4617-9401-c63fc4411414",
   "metadata": {},
   "source": [
    "### Task 8\n",
    "\n",
    "\n",
    "\n",
    "##### List the   names of the booster_versions which have carried the maximum payload mass. Use a subquery\n"
   ]
  },
  {
   "cell_type": "code",
   "execution_count": 15,
   "id": "0df9198c-75b0-4958-9639-30cfcf2d6d83",
   "metadata": {},
   "outputs": [],
   "source": [
    "%config SqlMagic.displaylimit = 15"
   ]
  },
  {
   "cell_type": "code",
   "execution_count": 16,
   "id": "4a828ae1-cd12-48de-9059-c3ff5485c82d",
   "metadata": {},
   "outputs": [
    {
     "data": {
      "text/html": [
       "<span style=\"None\">Running query in &#x27;sqlite:///my_data1.db&#x27;</span>"
      ],
      "text/plain": [
       "Running query in 'sqlite:///my_data1.db'"
      ]
     },
     "metadata": {},
     "output_type": "display_data"
    },
    {
     "data": {
      "text/html": [
       "<table>\n",
       "    <thead>\n",
       "        <tr>\n",
       "            <th>Booster_Version</th>\n",
       "            <th>PAYLOAD_MASS__KG_</th>\n",
       "        </tr>\n",
       "    </thead>\n",
       "    <tbody>\n",
       "        <tr>\n",
       "            <td>F9 B5 B1048.4</td>\n",
       "            <td>15600</td>\n",
       "        </tr>\n",
       "        <tr>\n",
       "            <td>F9 B5 B1048.5</td>\n",
       "            <td>15600</td>\n",
       "        </tr>\n",
       "        <tr>\n",
       "            <td>F9 B5 B1049.4</td>\n",
       "            <td>15600</td>\n",
       "        </tr>\n",
       "        <tr>\n",
       "            <td>F9 B5 B1049.5</td>\n",
       "            <td>15600</td>\n",
       "        </tr>\n",
       "        <tr>\n",
       "            <td>F9 B5 B1049.7 </td>\n",
       "            <td>15600</td>\n",
       "        </tr>\n",
       "        <tr>\n",
       "            <td>F9 B5 B1051.3</td>\n",
       "            <td>15600</td>\n",
       "        </tr>\n",
       "        <tr>\n",
       "            <td>F9 B5 B1051.4</td>\n",
       "            <td>15600</td>\n",
       "        </tr>\n",
       "        <tr>\n",
       "            <td>F9 B5 B1051.6</td>\n",
       "            <td>15600</td>\n",
       "        </tr>\n",
       "        <tr>\n",
       "            <td>F9 B5 B1056.4</td>\n",
       "            <td>15600</td>\n",
       "        </tr>\n",
       "        <tr>\n",
       "            <td>F9 B5 B1058.3 </td>\n",
       "            <td>15600</td>\n",
       "        </tr>\n",
       "        <tr>\n",
       "            <td>F9 B5 B1060.2 </td>\n",
       "            <td>15600</td>\n",
       "        </tr>\n",
       "        <tr>\n",
       "            <td>F9 B5 B1060.3</td>\n",
       "            <td>15600</td>\n",
       "        </tr>\n",
       "    </tbody>\n",
       "</table>"
      ],
      "text/plain": [
       "+-----------------+-------------------+\n",
       "| Booster_Version | PAYLOAD_MASS__KG_ |\n",
       "+-----------------+-------------------+\n",
       "|  F9 B5 B1048.4  |       15600       |\n",
       "|  F9 B5 B1048.5  |       15600       |\n",
       "|  F9 B5 B1049.4  |       15600       |\n",
       "|  F9 B5 B1049.5  |       15600       |\n",
       "|  F9 B5 B1049.7  |       15600       |\n",
       "|  F9 B5 B1051.3  |       15600       |\n",
       "|  F9 B5 B1051.4  |       15600       |\n",
       "|  F9 B5 B1051.6  |       15600       |\n",
       "|  F9 B5 B1056.4  |       15600       |\n",
       "|  F9 B5 B1058.3  |       15600       |\n",
       "|  F9 B5 B1060.2  |       15600       |\n",
       "|  F9 B5 B1060.3  |       15600       |\n",
       "+-----------------+-------------------+"
      ]
     },
     "execution_count": 16,
     "metadata": {},
     "output_type": "execute_result"
    }
   ],
   "source": [
    "%%sql \n",
    "SELECT  DISTINCT BOOSTER_VERSION, \n",
    "        PAYLOAD_MASS__KG_  \n",
    "FROM SPACEXTABLE \n",
    "WHERE PAYLOAD_MASS__KG_ IN (SELECT MAX(PAYLOAD_MASS__KG_) FROM SPACEXTABLE) \n",
    "ORDER BY BOOSTER_VERSION"
   ]
  },
  {
   "cell_type": "code",
   "execution_count": 17,
   "id": "2aef428c-7e3e-4900-a521-4641bfb3c663",
   "metadata": {},
   "outputs": [],
   "source": [
    "%config SqlMagic.displaylimit = 10"
   ]
  },
  {
   "cell_type": "markdown",
   "id": "7da7bff1-553f-4d7a-b208-a824b652927a",
   "metadata": {},
   "source": [
    "### Task 9\n",
    "##### List the records which will display the month names, failure landing_outcomes in drone ship ,booster versions, launch_site for the months in year 2015.\n",
    "Note: SQLLite does not support monthnames. So you need to use  substr(Date, 6,2) as month to get the months and substr(Date,0,5)='2015' for year."
   ]
  },
  {
   "cell_type": "code",
   "execution_count": 18,
   "id": "5c62c4b8-374f-49e8-a2c9-338d1498a08e",
   "metadata": {},
   "outputs": [
    {
     "data": {
      "text/html": [
       "<span style=\"None\">Running query in &#x27;sqlite:///my_data1.db&#x27;</span>"
      ],
      "text/plain": [
       "Running query in 'sqlite:///my_data1.db'"
      ]
     },
     "metadata": {},
     "output_type": "display_data"
    },
    {
     "data": {
      "text/html": [
       "<table>\n",
       "    <thead>\n",
       "        <tr>\n",
       "            <th>MONTH</th>\n",
       "            <th>YEAR</th>\n",
       "            <th>Landing_Outcome</th>\n",
       "            <th>Booster_Version</th>\n",
       "            <th>Launch_Site</th>\n",
       "        </tr>\n",
       "    </thead>\n",
       "    <tbody>\n",
       "        <tr>\n",
       "            <td>01</td>\n",
       "            <td>2015</td>\n",
       "            <td>Failure (drone ship)</td>\n",
       "            <td>F9 v1.1 B1012</td>\n",
       "            <td>CCAFS LC-40</td>\n",
       "        </tr>\n",
       "        <tr>\n",
       "            <td>04</td>\n",
       "            <td>2015</td>\n",
       "            <td>Failure (drone ship)</td>\n",
       "            <td>F9 v1.1 B1015</td>\n",
       "            <td>CCAFS LC-40</td>\n",
       "        </tr>\n",
       "    </tbody>\n",
       "</table>"
      ],
      "text/plain": [
       "+-------+------+----------------------+-----------------+-------------+\n",
       "| MONTH | YEAR |   Landing_Outcome    | Booster_Version | Launch_Site |\n",
       "+-------+------+----------------------+-----------------+-------------+\n",
       "|   01  | 2015 | Failure (drone ship) |  F9 v1.1 B1012  | CCAFS LC-40 |\n",
       "|   04  | 2015 | Failure (drone ship) |  F9 v1.1 B1015  | CCAFS LC-40 |\n",
       "+-------+------+----------------------+-----------------+-------------+"
      ]
     },
     "execution_count": 18,
     "metadata": {},
     "output_type": "execute_result"
    }
   ],
   "source": [
    "%%sql \n",
    "SELECT  substr(Date, 6,2) AS MONTH, \n",
    "        substr(Date,0,5) AS YEAR,\n",
    "        Landing_Outcome,\n",
    "        Booster_Version,\n",
    "        Launch_Site\n",
    "FROM SPACEXTABLE\n",
    "WHERE YEAR = '2015'\n",
    "  AND LANDING_OUTCOME = 'Failure (drone ship)'"
   ]
  },
  {
   "cell_type": "markdown",
   "id": "9d5bd48d-0466-46f1-82ff-1d201cccb118",
   "metadata": {},
   "source": [
    "### Task 10\n",
    "\n",
    "\n",
    "\n",
    "\n",
    "##### Rank the count of landing outcomes (such as Failure (drone ship) or Success (ground pad)) between the date 2010-06-04 and 2017-03-20, in descending order.\n"
   ]
  },
  {
   "cell_type": "code",
   "execution_count": 19,
   "id": "bbb1d748-2a99-4484-9512-d2168f633e71",
   "metadata": {},
   "outputs": [
    {
     "data": {
      "text/html": [
       "<span style=\"None\">Running query in &#x27;sqlite:///my_data1.db&#x27;</span>"
      ],
      "text/plain": [
       "Running query in 'sqlite:///my_data1.db'"
      ]
     },
     "metadata": {},
     "output_type": "display_data"
    },
    {
     "data": {
      "text/html": [
       "<table>\n",
       "    <thead>\n",
       "        <tr>\n",
       "            <th>Landing_Outcome</th>\n",
       "            <th>COUNT(LANDING_OUTCOME)</th>\n",
       "            <th>MIN_DATE</th>\n",
       "            <th>MAX_DATE</th>\n",
       "            <th>YEAR</th>\n",
       "            <th>MONTH</th>\n",
       "            <th>DAY</th>\n",
       "        </tr>\n",
       "    </thead>\n",
       "    <tbody>\n",
       "        <tr>\n",
       "            <td>No attempt</td>\n",
       "            <td>9</td>\n",
       "            <td>2012-05-22</td>\n",
       "            <td>2015-04-27</td>\n",
       "            <td>2015</td>\n",
       "            <td>4</td>\n",
       "            <td>27</td>\n",
       "        </tr>\n",
       "        <tr>\n",
       "            <td>Success (drone ship)</td>\n",
       "            <td>5</td>\n",
       "            <td>2016-04-08</td>\n",
       "            <td>2017-01-14</td>\n",
       "            <td>2017</td>\n",
       "            <td>1</td>\n",
       "            <td>14</td>\n",
       "        </tr>\n",
       "        <tr>\n",
       "            <td>Failure (drone ship)</td>\n",
       "            <td>5</td>\n",
       "            <td>2015-01-10</td>\n",
       "            <td>2016-06-15</td>\n",
       "            <td>2016</td>\n",
       "            <td>6</td>\n",
       "            <td>15</td>\n",
       "        </tr>\n",
       "        <tr>\n",
       "            <td>Success (ground pad)</td>\n",
       "            <td>3</td>\n",
       "            <td>2015-12-22</td>\n",
       "            <td>2017-02-19</td>\n",
       "            <td>2017</td>\n",
       "            <td>2</td>\n",
       "            <td>19</td>\n",
       "        </tr>\n",
       "        <tr>\n",
       "            <td>Controlled (ocean)</td>\n",
       "            <td>3</td>\n",
       "            <td>2014-04-18</td>\n",
       "            <td>2015-02-11</td>\n",
       "            <td>2015</td>\n",
       "            <td>2</td>\n",
       "            <td>11</td>\n",
       "        </tr>\n",
       "        <tr>\n",
       "            <td>Uncontrolled (ocean)</td>\n",
       "            <td>2</td>\n",
       "            <td>2013-09-29</td>\n",
       "            <td>2014-09-21</td>\n",
       "            <td>2014</td>\n",
       "            <td>9</td>\n",
       "            <td>21</td>\n",
       "        </tr>\n",
       "        <tr>\n",
       "            <td>Failure (parachute)</td>\n",
       "            <td>2</td>\n",
       "            <td>2010-06-04</td>\n",
       "            <td>2010-12-08</td>\n",
       "            <td>2010</td>\n",
       "            <td>12</td>\n",
       "            <td>8</td>\n",
       "        </tr>\n",
       "        <tr>\n",
       "            <td>Precluded (drone ship)</td>\n",
       "            <td>1</td>\n",
       "            <td>2015-06-28</td>\n",
       "            <td>2015-06-28</td>\n",
       "            <td>2015</td>\n",
       "            <td>6</td>\n",
       "            <td>28</td>\n",
       "        </tr>\n",
       "    </tbody>\n",
       "</table>"
      ],
      "text/plain": [
       "+------------------------+------------------------+------------+------------+------+-------+-----+\n",
       "|    Landing_Outcome     | COUNT(LANDING_OUTCOME) |  MIN_DATE  |  MAX_DATE  | YEAR | MONTH | DAY |\n",
       "+------------------------+------------------------+------------+------------+------+-------+-----+\n",
       "|       No attempt       |           9            | 2012-05-22 | 2015-04-27 | 2015 |   4   |  27 |\n",
       "|  Success (drone ship)  |           5            | 2016-04-08 | 2017-01-14 | 2017 |   1   |  14 |\n",
       "|  Failure (drone ship)  |           5            | 2015-01-10 | 2016-06-15 | 2016 |   6   |  15 |\n",
       "|  Success (ground pad)  |           3            | 2015-12-22 | 2017-02-19 | 2017 |   2   |  19 |\n",
       "|   Controlled (ocean)   |           3            | 2014-04-18 | 2015-02-11 | 2015 |   2   |  11 |\n",
       "|  Uncontrolled (ocean)  |           2            | 2013-09-29 | 2014-09-21 | 2014 |   9   |  21 |\n",
       "|  Failure (parachute)   |           2            | 2010-06-04 | 2010-12-08 | 2010 |   12  |  8  |\n",
       "| Precluded (drone ship) |           1            | 2015-06-28 | 2015-06-28 | 2015 |   6   |  28 |\n",
       "+------------------------+------------------------+------------+------------+------+-------+-----+"
      ]
     },
     "execution_count": 19,
     "metadata": {},
     "output_type": "execute_result"
    }
   ],
   "source": [
    "%%sql \n",
    "SELECT  LANDING_OUTCOME, \n",
    "        COUNT(LANDING_OUTCOME),\n",
    "        MIN(DATE) AS MIN_DATE,\n",
    "        MAX(DATE) AS MAX_DATE,\n",
    "        CAST(substr(Date,0,5) AS DECIMAL) AS YEAR,\n",
    "        CAST(substr(Date,6,2) AS DECIMAL) AS MONTH,\n",
    "        CAST(substr(Date,9,2) AS DECIMAL) AS DAY\n",
    "FROM SPACEXTABLE \n",
    "WHERE (YEAR > 2010 OR (YEAR=2010 AND MONTH>6) OR (YEAR=2010 AND MONTH=6 AND DAY>=4))\n",
    "  AND (YEAR < 2017 OR (YEAR=2017 AND MONTH<3) OR (YEAR=2010 AND MONTH=3 AND DAY<=20))\n",
    "GROUP BY LANDING_OUTCOME \n",
    "ORDER BY COUNT(LANDING_OUTCOME) DESC"
   ]
  },
  {
   "cell_type": "code",
   "execution_count": 20,
   "id": "69031c9d-bda3-46a3-825b-c0c299a43929",
   "metadata": {},
   "outputs": [
    {
     "data": {
      "text/html": [
       "<span style=\"None\">Running query in &#x27;sqlite:///my_data1.db&#x27;</span>"
      ],
      "text/plain": [
       "Running query in 'sqlite:///my_data1.db'"
      ]
     },
     "metadata": {},
     "output_type": "display_data"
    },
    {
     "data": {
      "text/html": [
       "<table>\n",
       "    <thead>\n",
       "        <tr>\n",
       "            <th>Launch_Site</th>\n",
       "        </tr>\n",
       "    </thead>\n",
       "    <tbody>\n",
       "        <tr>\n",
       "            <td>CCAFS LC-40</td>\n",
       "        </tr>\n",
       "        <tr>\n",
       "            <td>VAFB SLC-4E</td>\n",
       "        </tr>\n",
       "        <tr>\n",
       "            <td>KSC LC-39A</td>\n",
       "        </tr>\n",
       "        <tr>\n",
       "            <td>CCAFS SLC-40</td>\n",
       "        </tr>\n",
       "    </tbody>\n",
       "</table>"
      ],
      "text/plain": [
       "+--------------+\n",
       "| Launch_Site  |\n",
       "+--------------+\n",
       "| CCAFS LC-40  |\n",
       "| VAFB SLC-4E  |\n",
       "|  KSC LC-39A  |\n",
       "| CCAFS SLC-40 |\n",
       "+--------------+"
      ]
     },
     "execution_count": 20,
     "metadata": {},
     "output_type": "execute_result"
    }
   ],
   "source": [
    "%%sql\n",
    "SELECT DISTINCT Launch_Site FROM SPACEXTABLE "
   ]
  }
 ],
 "metadata": {
  "kernelspec": {
   "display_name": "Python 3 (ipykernel)",
   "language": "python",
   "name": "python3"
  },
  "language_info": {
   "codemirror_mode": {
    "name": "ipython",
    "version": 3
   },
   "file_extension": ".py",
   "mimetype": "text/x-python",
   "name": "python",
   "nbconvert_exporter": "python",
   "pygments_lexer": "ipython3",
   "version": "3.12.3"
  }
 },
 "nbformat": 4,
 "nbformat_minor": 5
}
