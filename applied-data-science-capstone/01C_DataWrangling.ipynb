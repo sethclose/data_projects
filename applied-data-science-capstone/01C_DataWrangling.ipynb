{
 "cells": [
  {
   "cell_type": "markdown",
   "id": "45f52573-b08d-4f96-8a90-6da0ca0623ce",
   "metadata": {},
   "source": [
    "# Data Wrangling"
   ]
  },
  {
   "cell_type": "code",
   "execution_count": 1,
   "id": "c6f7cecd-6af8-405f-af6c-77f7300b3049",
   "metadata": {},
   "outputs": [
    {
     "name": "stdout",
     "output_type": "stream",
     "text": [
      "Imported Libraries\n"
     ]
    }
   ],
   "source": [
    "import pandas as pd\n",
    "import numpy as np\n",
    "print(\"Imported Libraries\")"
   ]
  },
  {
   "cell_type": "markdown",
   "id": "87969c03-0e2c-4434-94bc-5b4d02d7cfd7",
   "metadata": {},
   "source": [
    "## Read Data"
   ]
  },
  {
   "cell_type": "code",
   "execution_count": 2,
   "id": "bf10a1a8-3105-48f1-8763-5c0e0f06a969",
   "metadata": {},
   "outputs": [
    {
     "name": "stdout",
     "output_type": "stream",
     "text": [
      "Read Data ((90, 17))\n"
     ]
    }
   ],
   "source": [
    "df=pd.read_csv(\"https://cf-courses-data.s3.us.cloud-object-storage.appdomain.cloud/IBM-DS0321EN-SkillsNetwork/datasets/dataset_part_1.csv\")\n",
    "print(f\"Read Data ({df.shape})\")"
   ]
  },
  {
   "cell_type": "code",
   "execution_count": 3,
   "id": "317bda04-392c-4be2-890e-9deecd702db9",
   "metadata": {},
   "outputs": [
    {
     "name": "stdout",
     "output_type": "stream",
     "text": [
      "LandingPad is 28.9% null.\n"
     ]
    }
   ],
   "source": [
    "for column in df.columns:\n",
    "    nullPercent = np.round(df[column].isnull().sum()/len(df),3)\n",
    "    if nullPercent > 0:\n",
    "        print(f'{column} is {nullPercent*100}% null.')"
   ]
  },
  {
   "cell_type": "code",
   "execution_count": 4,
   "id": "df57790c-617d-45dd-ad8e-c77c87768878",
   "metadata": {},
   "outputs": [],
   "source": [
    "df.drop('LandingPad', axis=1, inplace=True)"
   ]
  },
  {
   "cell_type": "markdown",
   "id": "ffcb19c5-03d0-49ca-a655-e72950810264",
   "metadata": {},
   "source": [
    "## TASK 1: Calculate the number of launches on each site"
   ]
  },
  {
   "cell_type": "code",
   "execution_count": 5,
   "id": "fc3d2d53-21c1-494b-87a1-3d2010b9cbab",
   "metadata": {},
   "outputs": [
    {
     "data": {
      "text/plain": [
       "LaunchSite\n",
       "CCAFS SLC 40    55\n",
       "KSC LC 39A      22\n",
       "VAFB SLC 4E     13\n",
       "Name: count, dtype: int64"
      ]
     },
     "execution_count": 5,
     "metadata": {},
     "output_type": "execute_result"
    }
   ],
   "source": [
    "# Apply value_counts() on column LaunchSite\n",
    "df[['LaunchSite']].groupby(['LaunchSite']).value_counts()"
   ]
  },
  {
   "cell_type": "markdown",
   "id": "c9b3bce2-9799-428f-8d53-99c83e10ceaf",
   "metadata": {},
   "source": [
    "## TASK 2: Calculate the number and occurrence of each orbit"
   ]
  },
  {
   "cell_type": "markdown",
   "id": "41101166-df1a-43cb-841e-f2a10111e877",
   "metadata": {},
   "source": [
    " Use the method  <code>.value_counts()</code> to determine the number and occurrence of each orbit in the  column <code>Orbit</code>"
   ]
  },
  {
   "cell_type": "code",
   "execution_count": 6,
   "id": "c7a5d6d8-5a05-4573-ab64-7c50db0e99c4",
   "metadata": {},
   "outputs": [
    {
     "data": {
      "text/plain": [
       "Orbit\n",
       "ES-L1     1\n",
       "GEO       1\n",
       "GTO      27\n",
       "HEO       1\n",
       "ISS      21\n",
       "LEO       7\n",
       "MEO       3\n",
       "PO        9\n",
       "SO        1\n",
       "SSO       5\n",
       "VLEO     14\n",
       "Name: count, dtype: int64"
      ]
     },
     "execution_count": 6,
     "metadata": {},
     "output_type": "execute_result"
    }
   ],
   "source": [
    "df[['Orbit']].groupby(['Orbit']).value_counts()"
   ]
  },
  {
   "cell_type": "code",
   "execution_count": 7,
   "id": "343250f0-c405-4f3e-8a8f-017ff6046def",
   "metadata": {},
   "outputs": [
    {
     "name": "stdout",
     "output_type": "stream",
     "text": [
      "                   count\n",
      "Orbit Outcome           \n",
      "ES-L1 True Ocean       1\n",
      "GEO   True ASDS        1\n",
      "GTO   True ASDS       13\n",
      "      None None       11\n",
      "      False ASDS       1\n",
      "      None ASDS        1\n",
      "      True Ocean       1\n",
      "HEO   True ASDS        1\n",
      "ISS   True RTLS        7\n",
      "      True ASDS        5\n",
      "      None None        3\n",
      "      False ASDS       2\n",
      "      False Ocean      1\n",
      "      False RTLS       1\n",
      "      None ASDS        1\n",
      "      True Ocean       1\n",
      "LEO   True RTLS        4\n",
      "      None None        2\n",
      "      True Ocean       1\n",
      "MEO   True ASDS        2\n",
      "      None None        1\n",
      "PO    True ASDS        5\n",
      "      False ASDS       1\n",
      "      False Ocean      1\n",
      "      None None        1\n",
      "      True Ocean       1\n",
      "SO    None None        1\n",
      "SSO   True RTLS        3\n",
      "      True ASDS        2\n",
      "VLEO  True ASDS       12\n",
      "      False ASDS       2\n"
     ]
    }
   ],
   "source": [
    "# Outcome Totals for Each Orbit\n",
    "print(pd.DataFrame(df[['Orbit','Outcome']].groupby(['Orbit']).value_counts()))"
   ]
  },
  {
   "cell_type": "markdown",
   "id": "a270bf7b-d779-4c89-a75d-3f1202344ba1",
   "metadata": {},
   "source": [
    "## TASK 3: Calculate the number and occurence of mission outcome of the orbits"
   ]
  },
  {
   "cell_type": "markdown",
   "id": "babcc3cb-846e-4ffa-b4a0-7a03624453dd",
   "metadata": {},
   "source": [
    "Use the method <code>.value_counts()</code> on the column <code>Outcome</code> to determine the number of <code>landing_outcomes</code>.Then assign it to a variable landing_outcomes."
   ]
  },
  {
   "cell_type": "code",
   "execution_count": 18,
   "id": "8a75ddc3-e0ac-4a5b-8393-dfa74124bc6f",
   "metadata": {},
   "outputs": [
    {
     "data": {
      "text/html": [
       "<div>\n",
       "<style scoped>\n",
       "    .dataframe tbody tr th:only-of-type {\n",
       "        vertical-align: middle;\n",
       "    }\n",
       "\n",
       "    .dataframe tbody tr th {\n",
       "        vertical-align: top;\n",
       "    }\n",
       "\n",
       "    .dataframe thead th {\n",
       "        text-align: right;\n",
       "    }\n",
       "</style>\n",
       "<table border=\"1\" class=\"dataframe\">\n",
       "  <thead>\n",
       "    <tr style=\"text-align: right;\">\n",
       "      <th></th>\n",
       "      <th></th>\n",
       "      <th>count</th>\n",
       "    </tr>\n",
       "    <tr>\n",
       "      <th>Orbit</th>\n",
       "      <th>Outcome</th>\n",
       "      <th></th>\n",
       "    </tr>\n",
       "  </thead>\n",
       "  <tbody>\n",
       "    <tr>\n",
       "      <th>ES-L1</th>\n",
       "      <th>True Ocean</th>\n",
       "      <td>1</td>\n",
       "    </tr>\n",
       "    <tr>\n",
       "      <th>GEO</th>\n",
       "      <th>True ASDS</th>\n",
       "      <td>1</td>\n",
       "    </tr>\n",
       "    <tr>\n",
       "      <th rowspan=\"5\" valign=\"top\">GTO</th>\n",
       "      <th>True ASDS</th>\n",
       "      <td>13</td>\n",
       "    </tr>\n",
       "    <tr>\n",
       "      <th>None None</th>\n",
       "      <td>11</td>\n",
       "    </tr>\n",
       "    <tr>\n",
       "      <th>False ASDS</th>\n",
       "      <td>1</td>\n",
       "    </tr>\n",
       "    <tr>\n",
       "      <th>None ASDS</th>\n",
       "      <td>1</td>\n",
       "    </tr>\n",
       "    <tr>\n",
       "      <th>True Ocean</th>\n",
       "      <td>1</td>\n",
       "    </tr>\n",
       "    <tr>\n",
       "      <th>HEO</th>\n",
       "      <th>True ASDS</th>\n",
       "      <td>1</td>\n",
       "    </tr>\n",
       "    <tr>\n",
       "      <th rowspan=\"8\" valign=\"top\">ISS</th>\n",
       "      <th>True RTLS</th>\n",
       "      <td>7</td>\n",
       "    </tr>\n",
       "    <tr>\n",
       "      <th>True ASDS</th>\n",
       "      <td>5</td>\n",
       "    </tr>\n",
       "    <tr>\n",
       "      <th>None None</th>\n",
       "      <td>3</td>\n",
       "    </tr>\n",
       "    <tr>\n",
       "      <th>False ASDS</th>\n",
       "      <td>2</td>\n",
       "    </tr>\n",
       "    <tr>\n",
       "      <th>False Ocean</th>\n",
       "      <td>1</td>\n",
       "    </tr>\n",
       "    <tr>\n",
       "      <th>False RTLS</th>\n",
       "      <td>1</td>\n",
       "    </tr>\n",
       "    <tr>\n",
       "      <th>None ASDS</th>\n",
       "      <td>1</td>\n",
       "    </tr>\n",
       "    <tr>\n",
       "      <th>True Ocean</th>\n",
       "      <td>1</td>\n",
       "    </tr>\n",
       "    <tr>\n",
       "      <th rowspan=\"3\" valign=\"top\">LEO</th>\n",
       "      <th>True RTLS</th>\n",
       "      <td>4</td>\n",
       "    </tr>\n",
       "    <tr>\n",
       "      <th>None None</th>\n",
       "      <td>2</td>\n",
       "    </tr>\n",
       "    <tr>\n",
       "      <th>True Ocean</th>\n",
       "      <td>1</td>\n",
       "    </tr>\n",
       "    <tr>\n",
       "      <th rowspan=\"2\" valign=\"top\">MEO</th>\n",
       "      <th>True ASDS</th>\n",
       "      <td>2</td>\n",
       "    </tr>\n",
       "    <tr>\n",
       "      <th>None None</th>\n",
       "      <td>1</td>\n",
       "    </tr>\n",
       "    <tr>\n",
       "      <th rowspan=\"5\" valign=\"top\">PO</th>\n",
       "      <th>True ASDS</th>\n",
       "      <td>5</td>\n",
       "    </tr>\n",
       "    <tr>\n",
       "      <th>False ASDS</th>\n",
       "      <td>1</td>\n",
       "    </tr>\n",
       "    <tr>\n",
       "      <th>False Ocean</th>\n",
       "      <td>1</td>\n",
       "    </tr>\n",
       "    <tr>\n",
       "      <th>None None</th>\n",
       "      <td>1</td>\n",
       "    </tr>\n",
       "    <tr>\n",
       "      <th>True Ocean</th>\n",
       "      <td>1</td>\n",
       "    </tr>\n",
       "    <tr>\n",
       "      <th>SO</th>\n",
       "      <th>None None</th>\n",
       "      <td>1</td>\n",
       "    </tr>\n",
       "    <tr>\n",
       "      <th rowspan=\"2\" valign=\"top\">SSO</th>\n",
       "      <th>True RTLS</th>\n",
       "      <td>3</td>\n",
       "    </tr>\n",
       "    <tr>\n",
       "      <th>True ASDS</th>\n",
       "      <td>2</td>\n",
       "    </tr>\n",
       "    <tr>\n",
       "      <th rowspan=\"2\" valign=\"top\">VLEO</th>\n",
       "      <th>True ASDS</th>\n",
       "      <td>12</td>\n",
       "    </tr>\n",
       "    <tr>\n",
       "      <th>False ASDS</th>\n",
       "      <td>2</td>\n",
       "    </tr>\n",
       "  </tbody>\n",
       "</table>\n",
       "</div>"
      ],
      "text/plain": [
       "                   count\n",
       "Orbit Outcome           \n",
       "ES-L1 True Ocean       1\n",
       "GEO   True ASDS        1\n",
       "GTO   True ASDS       13\n",
       "      None None       11\n",
       "      False ASDS       1\n",
       "      None ASDS        1\n",
       "      True Ocean       1\n",
       "HEO   True ASDS        1\n",
       "ISS   True RTLS        7\n",
       "      True ASDS        5\n",
       "      None None        3\n",
       "      False ASDS       2\n",
       "      False Ocean      1\n",
       "      False RTLS       1\n",
       "      None ASDS        1\n",
       "      True Ocean       1\n",
       "LEO   True RTLS        4\n",
       "      None None        2\n",
       "      True Ocean       1\n",
       "MEO   True ASDS        2\n",
       "      None None        1\n",
       "PO    True ASDS        5\n",
       "      False ASDS       1\n",
       "      False Ocean      1\n",
       "      None None        1\n",
       "      True Ocean       1\n",
       "SO    None None        1\n",
       "SSO   True RTLS        3\n",
       "      True ASDS        2\n",
       "VLEO  True ASDS       12\n",
       "      False ASDS       2"
      ]
     },
     "execution_count": 18,
     "metadata": {},
     "output_type": "execute_result"
    }
   ],
   "source": [
    "df_orbit_outcomes = pd.DataFrame(df[['Orbit','Outcome']].groupby(['Orbit']).value_counts())\n",
    "df_orbit_outcomes"
   ]
  },
  {
   "cell_type": "code",
   "execution_count": 8,
   "id": "2f6f8cfa-6bd4-4778-98ad-a4c140e33fd3",
   "metadata": {},
   "outputs": [
    {
     "data": {
      "text/plain": [
       "Outcome\n",
       "False ASDS      6\n",
       "False Ocean     2\n",
       "False RTLS      1\n",
       "None ASDS       2\n",
       "None None      19\n",
       "True ASDS      41\n",
       "True Ocean      5\n",
       "True RTLS      14\n",
       "Name: count, dtype: int64"
      ]
     },
     "execution_count": 8,
     "metadata": {},
     "output_type": "execute_result"
    }
   ],
   "source": [
    "landing_outcomes = df[['Outcome']].groupby(['Outcome']).value_counts(); landing_outcomes"
   ]
  },
  {
   "cell_type": "markdown",
   "id": "cc5a6af6-778f-46d1-af87-eb767b1219bf",
   "metadata": {},
   "source": [
    "<code>True Ocean</code> means the mission outcome was successfully  landed to a specific region of the ocean while <code>False Ocean</code> means the mission outcome was unsuccessfully landed to a specific region of the ocean. <code>True RTLS</code> means the mission outcome was successfully  landed to a ground pad <code>False RTLS</code> means the mission outcome was unsuccessfully landed to a ground pad.<code>True ASDS</code> means the mission outcome was successfully  landed to a drone ship <code>False ASDS</code> means the mission outcome was unsuccessfully landed to a drone ship. <code>None ASDS</code> and <code>None None</code> these represent a failure to land.\n"
   ]
  },
  {
   "cell_type": "code",
   "execution_count": 9,
   "id": "44cdf7cb-82c4-4148-87d1-c0f43e6033a8",
   "metadata": {},
   "outputs": [
    {
     "name": "stdout",
     "output_type": "stream",
     "text": [
      "0 False ASDS\n",
      "1 False Ocean\n",
      "2 False RTLS\n",
      "3 None ASDS\n",
      "4 None None\n",
      "5 True ASDS\n",
      "6 True Ocean\n",
      "7 True RTLS\n"
     ]
    }
   ],
   "source": [
    "for i,outcome in enumerate(landing_outcomes.keys()):\n",
    "    print(i,outcome)"
   ]
  },
  {
   "cell_type": "markdown",
   "id": "a6e0d5c4-a70d-4f14-ab05-90a93ee28f5d",
   "metadata": {},
   "source": [
    "We create a set of outcomes where the second stage did not land successfully:\n"
   ]
  },
  {
   "cell_type": "code",
   "execution_count": 10,
   "id": "7aca826a-3577-46d2-acdd-0e2c90879a11",
   "metadata": {},
   "outputs": [
    {
     "data": {
      "text/plain": [
       "{'False Ocean', 'None ASDS', 'True ASDS', 'True Ocean', 'True RTLS'}"
      ]
     },
     "execution_count": 10,
     "metadata": {},
     "output_type": "execute_result"
    }
   ],
   "source": [
    "bad_outcomes = set(landing_outcomes.keys()[[1,3,5,6,7]]);   bad_outcomes"
   ]
  },
  {
   "cell_type": "code",
   "execution_count": 11,
   "id": "10dd8179-7208-4b08-a588-36c10e27311b",
   "metadata": {},
   "outputs": [
    {
     "data": {
      "text/plain": [
       "{'False ASDS', 'False Ocean', 'False RTLS', 'None ASDS', 'None None'}"
      ]
     },
     "execution_count": 11,
     "metadata": {},
     "output_type": "execute_result"
    }
   ],
   "source": [
    "bad_outcomes = set(landing_outcomes.keys()[[0,1,2,3,4]]);   bad_outcomes"
   ]
  },
  {
   "cell_type": "code",
   "execution_count": 12,
   "id": "009073c1-0f40-459e-870e-db767e479a30",
   "metadata": {},
   "outputs": [
    {
     "data": {
      "text/plain": [
       "{'False ASDS', 'False Ocean', 'False RTLS', 'None ASDS', 'None None'}"
      ]
     },
     "execution_count": 12,
     "metadata": {},
     "output_type": "execute_result"
    }
   ],
   "source": [
    "bad_outcomes = set(landing_outcomes[landing_outcomes.keys().str.contains(\"False\") | landing_outcomes.keys().str.contains(\"None\")].keys());   bad_outcomes"
   ]
  },
  {
   "cell_type": "markdown",
   "id": "b23a2129-95ae-4caa-bb18-38beadd7bccf",
   "metadata": {},
   "source": [
    "## TASK 4: Create a landing outcome label from Outcome column"
   ]
  },
  {
   "cell_type": "markdown",
   "id": "132595d5-14dd-49af-8be4-061dfbce4145",
   "metadata": {},
   "source": [
    "This code is better than the lab's convoluted approach:\\\n",
    "``df = df.assign(Class = df['Outcome'].str.contains(\"True\").map({True: 1, False: 0}))``"
   ]
  },
  {
   "cell_type": "markdown",
   "id": "f00e9d72-ddc8-48dc-9edc-03e4216a5fa1",
   "metadata": {},
   "source": [
    "Using the <code>Outcome</code>,  create a list where the element is zero if the corresponding  row  in  <code>Outcome</code> is in the set <code>bad_outcome</code>; otherwise, it's one. Then assign it to the variable <code>landing_class</code>:\n"
   ]
  },
  {
   "cell_type": "code",
   "execution_count": 13,
   "id": "109d7fe2-5a01-4563-bbb8-e3aef72ccce9",
   "metadata": {},
   "outputs": [],
   "source": [
    "landing_class = [int(not x) for x in df['Outcome'].isin(bad_outcomes)]"
   ]
  },
  {
   "cell_type": "markdown",
   "id": "80c59159-9130-401d-ac45-239146d6a7da",
   "metadata": {},
   "source": [
    "This variable will represent the classification variable that represents the outcome of each launch. If the value is zero, the  first stage did not land successfully; one means  the first stage landed Successfully \n"
   ]
  },
  {
   "cell_type": "code",
   "execution_count": 14,
   "id": "844da739-1bdf-406b-b237-3796b9dc3039",
   "metadata": {},
   "outputs": [],
   "source": [
    "df['Class']=landing_class"
   ]
  },
  {
   "cell_type": "markdown",
   "id": "3ad978e8-63a8-4f6c-a918-058a348dbaa9",
   "metadata": {},
   "source": [
    "We can use the following line of code to determine  the success rate:"
   ]
  },
  {
   "cell_type": "code",
   "execution_count": 15,
   "id": "97a50a82-ec77-4075-a454-041b8c9f16fc",
   "metadata": {},
   "outputs": [
    {
     "name": "stdout",
     "output_type": "stream",
     "text": [
      "Successful 66.7%\n"
     ]
    }
   ],
   "source": [
    "print(f'Successful {df[\"Class\"].mean()*100:.1f}%')"
   ]
  },
  {
   "cell_type": "code",
   "execution_count": 21,
   "id": "43bd2697-af96-43b4-933f-7801cb4897d8",
   "metadata": {},
   "outputs": [
    {
     "data": {
      "text/html": [
       "<div>\n",
       "<style scoped>\n",
       "    .dataframe tbody tr th:only-of-type {\n",
       "        vertical-align: middle;\n",
       "    }\n",
       "\n",
       "    .dataframe tbody tr th {\n",
       "        vertical-align: top;\n",
       "    }\n",
       "\n",
       "    .dataframe thead th {\n",
       "        text-align: right;\n",
       "    }\n",
       "</style>\n",
       "<table border=\"1\" class=\"dataframe\">\n",
       "  <thead>\n",
       "    <tr style=\"text-align: right;\">\n",
       "      <th></th>\n",
       "      <th></th>\n",
       "      <th>count</th>\n",
       "    </tr>\n",
       "    <tr>\n",
       "      <th>Orbit</th>\n",
       "      <th>Class</th>\n",
       "      <th></th>\n",
       "    </tr>\n",
       "  </thead>\n",
       "  <tbody>\n",
       "    <tr>\n",
       "      <th>ES-L1</th>\n",
       "      <th>1</th>\n",
       "      <td>1</td>\n",
       "    </tr>\n",
       "    <tr>\n",
       "      <th>GEO</th>\n",
       "      <th>1</th>\n",
       "      <td>1</td>\n",
       "    </tr>\n",
       "    <tr>\n",
       "      <th rowspan=\"2\" valign=\"top\">GTO</th>\n",
       "      <th>0</th>\n",
       "      <td>13</td>\n",
       "    </tr>\n",
       "    <tr>\n",
       "      <th>1</th>\n",
       "      <td>14</td>\n",
       "    </tr>\n",
       "    <tr>\n",
       "      <th>HEO</th>\n",
       "      <th>1</th>\n",
       "      <td>1</td>\n",
       "    </tr>\n",
       "    <tr>\n",
       "      <th rowspan=\"2\" valign=\"top\">ISS</th>\n",
       "      <th>0</th>\n",
       "      <td>8</td>\n",
       "    </tr>\n",
       "    <tr>\n",
       "      <th>1</th>\n",
       "      <td>13</td>\n",
       "    </tr>\n",
       "    <tr>\n",
       "      <th rowspan=\"2\" valign=\"top\">LEO</th>\n",
       "      <th>0</th>\n",
       "      <td>2</td>\n",
       "    </tr>\n",
       "    <tr>\n",
       "      <th>1</th>\n",
       "      <td>5</td>\n",
       "    </tr>\n",
       "    <tr>\n",
       "      <th rowspan=\"2\" valign=\"top\">MEO</th>\n",
       "      <th>0</th>\n",
       "      <td>1</td>\n",
       "    </tr>\n",
       "    <tr>\n",
       "      <th>1</th>\n",
       "      <td>2</td>\n",
       "    </tr>\n",
       "    <tr>\n",
       "      <th rowspan=\"2\" valign=\"top\">PO</th>\n",
       "      <th>0</th>\n",
       "      <td>3</td>\n",
       "    </tr>\n",
       "    <tr>\n",
       "      <th>1</th>\n",
       "      <td>6</td>\n",
       "    </tr>\n",
       "    <tr>\n",
       "      <th>SO</th>\n",
       "      <th>0</th>\n",
       "      <td>1</td>\n",
       "    </tr>\n",
       "    <tr>\n",
       "      <th>SSO</th>\n",
       "      <th>1</th>\n",
       "      <td>5</td>\n",
       "    </tr>\n",
       "    <tr>\n",
       "      <th rowspan=\"2\" valign=\"top\">VLEO</th>\n",
       "      <th>0</th>\n",
       "      <td>2</td>\n",
       "    </tr>\n",
       "    <tr>\n",
       "      <th>1</th>\n",
       "      <td>12</td>\n",
       "    </tr>\n",
       "  </tbody>\n",
       "</table>\n",
       "</div>"
      ],
      "text/plain": [
       "             count\n",
       "Orbit Class       \n",
       "ES-L1 1          1\n",
       "GEO   1          1\n",
       "GTO   0         13\n",
       "      1         14\n",
       "HEO   1          1\n",
       "ISS   0          8\n",
       "      1         13\n",
       "LEO   0          2\n",
       "      1          5\n",
       "MEO   0          1\n",
       "      1          2\n",
       "PO    0          3\n",
       "      1          6\n",
       "SO    0          1\n",
       "SSO   1          5\n",
       "VLEO  0          2\n",
       "      1         12"
      ]
     },
     "execution_count": 21,
     "metadata": {},
     "output_type": "execute_result"
    }
   ],
   "source": [
    "df_orbit_outcomes = pd.DataFrame(df[['Orbit','Class']].groupby(['Orbit','Class']).value_counts())\n",
    "df_orbit_outcomes"
   ]
  },
  {
   "cell_type": "markdown",
   "id": "038c93e7-4b2a-45bb-abb5-aecc6cb67ec6",
   "metadata": {},
   "source": [
    "This code is better than the lab's convoluted approach:\\\n",
    "``df = df.assign(Class = df['Outcome'].str.contains(\"True\").map({True: 1, False: 0}))``"
   ]
  },
  {
   "cell_type": "markdown",
   "id": "7c7930b2-4828-4f23-9e38-c1ba900f4041",
   "metadata": {},
   "source": [
    "## TASK 4: Create a landing outcome label from Outcome column"
   ]
  },
  {
   "cell_type": "markdown",
   "id": "cc1cc5f7-f4b0-40f5-984d-852b3493810c",
   "metadata": {},
   "source": [
    "## Save Data to CSV "
   ]
  },
  {
   "cell_type": "code",
   "execution_count": 16,
   "id": "40dfddd2-36b8-4a1d-99dd-d72a52e45a86",
   "metadata": {},
   "outputs": [],
   "source": [
    "df.to_csv(\"dataset_part_2.csv\", index=False)"
   ]
  }
 ],
 "metadata": {
  "kernelspec": {
   "display_name": "Python 3 (ipykernel)",
   "language": "python",
   "name": "python3"
  },
  "language_info": {
   "codemirror_mode": {
    "name": "ipython",
    "version": 3
   },
   "file_extension": ".py",
   "mimetype": "text/x-python",
   "name": "python",
   "nbconvert_exporter": "python",
   "pygments_lexer": "ipython3",
   "version": "3.12.3"
  }
 },
 "nbformat": 4,
 "nbformat_minor": 5
}
