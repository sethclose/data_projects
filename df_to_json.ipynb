{
 "cells": [
  {
   "cell_type": "markdown",
   "id": "1a4be13d-20c5-47af-ab3b-52c9c197586c",
   "metadata": {},
   "source": [
    "## **CSV to DataFrame to JSON**"
   ]
  },
  {
   "cell_type": "code",
   "execution_count": null,
   "id": "dab6eb11-63c5-493c-b632-b2223cddc5ee",
   "metadata": {},
   "outputs": [],
   "source": [
    "from randomuser import RandomUser"
   ]
  },
  {
   "cell_type": "code",
   "execution_count": 44,
   "id": "3539e226-8153-40ab-bafb-2d09397c3449",
   "metadata": {},
   "outputs": [],
   "source": [
    "users = RandomUser().generate_users(5)"
   ]
  },
  {
   "cell_type": "code",
   "execution_count": 79,
   "id": "562225c7-ad27-40cc-9a1b-b64a9b2f39f1",
   "metadata": {},
   "outputs": [
    {
     "data": {
      "text/plain": [
       "'Name,Email,City,Detail.One,Detail.Two,Detail.Three\\nAudrey Barbier,audrey.barbier@example.com,Gams,AaG1,AaG2,AaG3\\nSavannah Moore,savannah.moore@example.com,Upper Hutt,SsU1,SsU2,SsU3\\nMalou Poulsen,malou.poulsen@example.com,Billum,MmB1,MmB2,MmB3\\nÖzkan Eliçin,ozkan.elicin@example.com,Kırıkkale,ÖoK1,ÖoK2,ÖoK3\\nAlice Nichols,alice.nichols@example.com,York,AaY1,AaY2,AaY3\\n'"
      ]
     },
     "execution_count": 79,
     "metadata": {},
     "output_type": "execute_result"
    }
   ],
   "source": [
    "# Create CSV Data from Random Users\n",
    "csv_data = 'Name,Email,City,Detail.One,Detail.Two,Detail.Three\\n'\n",
    "for user in users:\n",
    "    csv_data += user.get_full_name() + \",\" + user.get_email() + \",\" +  user.get_city()\n",
    "    for i in range(1,4):\n",
    "        csv_data += ',' + user.get_full_name()[0] + user.get_email()[0] + user.get_city()[0] + str(i)\n",
    "    csv_data += '\\n'\n",
    "csv_data"
   ]
  },
  {
   "cell_type": "code",
   "execution_count": 80,
   "id": "ce7349b0-11f2-4f4c-a940-b9212bcb8b26",
   "metadata": {},
   "outputs": [],
   "source": [
    "# Write CSV Data To File\n",
    "filename = \"./csv/user.csv\"\n",
    "file = open(filename, \"w\")\n",
    "file.write(csv_data)\n",
    "file.close()"
   ]
  },
  {
   "cell_type": "code",
   "execution_count": 47,
   "id": "279e2a40-2100-4bf2-bfec-30acc5a2856e",
   "metadata": {},
   "outputs": [],
   "source": [
    "import pandas as pd"
   ]
  },
  {
   "cell_type": "code",
   "execution_count": 81,
   "id": "4d099c12-685f-4f7e-a1d0-d13e88cef436",
   "metadata": {},
   "outputs": [
    {
     "data": {
      "text/html": [
       "<div>\n",
       "<style scoped>\n",
       "    .dataframe tbody tr th:only-of-type {\n",
       "        vertical-align: middle;\n",
       "    }\n",
       "\n",
       "    .dataframe tbody tr th {\n",
       "        vertical-align: top;\n",
       "    }\n",
       "\n",
       "    .dataframe thead th {\n",
       "        text-align: right;\n",
       "    }\n",
       "</style>\n",
       "<table border=\"1\" class=\"dataframe\">\n",
       "  <thead>\n",
       "    <tr style=\"text-align: right;\">\n",
       "      <th></th>\n",
       "      <th>Name</th>\n",
       "      <th>Email</th>\n",
       "      <th>City</th>\n",
       "      <th>Detail.One</th>\n",
       "      <th>Detail.Two</th>\n",
       "      <th>Detail.Three</th>\n",
       "    </tr>\n",
       "  </thead>\n",
       "  <tbody>\n",
       "    <tr>\n",
       "      <th>0</th>\n",
       "      <td>Audrey Barbier</td>\n",
       "      <td>audrey.barbier@example.com</td>\n",
       "      <td>Gams</td>\n",
       "      <td>AaG1</td>\n",
       "      <td>AaG2</td>\n",
       "      <td>AaG3</td>\n",
       "    </tr>\n",
       "    <tr>\n",
       "      <th>1</th>\n",
       "      <td>Savannah Moore</td>\n",
       "      <td>savannah.moore@example.com</td>\n",
       "      <td>Upper Hutt</td>\n",
       "      <td>SsU1</td>\n",
       "      <td>SsU2</td>\n",
       "      <td>SsU3</td>\n",
       "    </tr>\n",
       "    <tr>\n",
       "      <th>2</th>\n",
       "      <td>Malou Poulsen</td>\n",
       "      <td>malou.poulsen@example.com</td>\n",
       "      <td>Billum</td>\n",
       "      <td>MmB1</td>\n",
       "      <td>MmB2</td>\n",
       "      <td>MmB3</td>\n",
       "    </tr>\n",
       "    <tr>\n",
       "      <th>3</th>\n",
       "      <td>Özkan Eliçin</td>\n",
       "      <td>ozkan.elicin@example.com</td>\n",
       "      <td>Kırıkkale</td>\n",
       "      <td>ÖoK1</td>\n",
       "      <td>ÖoK2</td>\n",
       "      <td>ÖoK3</td>\n",
       "    </tr>\n",
       "    <tr>\n",
       "      <th>4</th>\n",
       "      <td>Alice Nichols</td>\n",
       "      <td>alice.nichols@example.com</td>\n",
       "      <td>York</td>\n",
       "      <td>AaY1</td>\n",
       "      <td>AaY2</td>\n",
       "      <td>AaY3</td>\n",
       "    </tr>\n",
       "  </tbody>\n",
       "</table>\n",
       "</div>"
      ],
      "text/plain": [
       "             Name                       Email        City Detail.One  \\\n",
       "0  Audrey Barbier  audrey.barbier@example.com        Gams       AaG1   \n",
       "1  Savannah Moore  savannah.moore@example.com  Upper Hutt       SsU1   \n",
       "2   Malou Poulsen   malou.poulsen@example.com      Billum       MmB1   \n",
       "3    Özkan Eliçin    ozkan.elicin@example.com   Kırıkkale       ÖoK1   \n",
       "4   Alice Nichols   alice.nichols@example.com        York       AaY1   \n",
       "\n",
       "  Detail.Two Detail.Three  \n",
       "0       AaG2         AaG3  \n",
       "1       SsU2         SsU3  \n",
       "2       MmB2         MmB3  \n",
       "3       ÖoK2         ÖoK3  \n",
       "4       AaY2         AaY3  "
      ]
     },
     "execution_count": 81,
     "metadata": {},
     "output_type": "execute_result"
    }
   ],
   "source": [
    "df = pd.read_csv(filename)\n",
    "df"
   ]
  },
  {
   "cell_type": "code",
   "execution_count": 82,
   "id": "83104ff0-fc46-4737-9c81-15499daf1d8f",
   "metadata": {},
   "outputs": [
    {
     "name": "stdout",
     "output_type": "stream",
     "text": [
      "[\n",
      "  {\n",
      "    \"Name\": \"Audrey Barbier\",\n",
      "    \"Email\": \"audrey.barbier@example.com\",\n",
      "    \"City\": \"Gams\",\n",
      "    \"Detail.One\": \"AaG1\",\n",
      "    \"Detail.Two\": \"AaG2\",\n",
      "    \"Detail.Three\": \"AaG3\"\n",
      "  },\n",
      "  {\n",
      "    \"Name\": \"Savannah Moore\",\n",
      "    \"Email\": \"savannah.moore@example.com\",\n",
      "    \"City\": \"Upper Hutt\",\n",
      "    \"Detail.One\": \"SsU1\",\n",
      "    \"Detail.Two\": \"SsU2\",\n",
      "    \"Detail.Three\": \"SsU3\"\n",
      "  },\n",
      "  {\n",
      "    \"Name\": \"Malou Poulsen\",\n",
      "    \"Email\": \"malou.poulsen@example.com\",\n",
      "    \"City\": \"Billum\",\n",
      "    \"Detail.One\": \"MmB1\",\n",
      "    \"Detail.Two\": \"MmB2\",\n",
      "    \"Detail.Three\": \"MmB3\"\n",
      "  },\n",
      "  {\n",
      "    \"Name\": \"\\u00d6zkan Eli\\u00e7in\",\n",
      "    \"Email\": \"ozkan.elicin@example.com\",\n",
      "    \"City\": \"K\\u0131r\\u0131kkale\",\n",
      "    \"Detail.One\": \"\\u00d6oK1\",\n",
      "    \"Detail.Two\": \"\\u00d6oK2\",\n",
      "    \"Detail.Three\": \"\\u00d6oK3\"\n",
      "  },\n",
      "  {\n",
      "    \"Name\": \"Alice Nichols\",\n",
      "    \"Email\": \"alice.nichols@example.com\",\n",
      "    \"City\": \"York\",\n",
      "    \"Detail.One\": \"AaY1\",\n",
      "    \"Detail.Two\": \"AaY2\",\n",
      "    \"Detail.Three\": \"AaY3\"\n",
      "  }\n",
      "]\n"
     ]
    }
   ],
   "source": [
    "import json \n",
    "\n",
    "result = df.to_json(orient=\"records\")\n",
    "parsed = json.loads(result)\n",
    "json_object = json.dumps(parsed, indent=2)\n",
    "print(json_object)"
   ]
  },
  {
   "cell_type": "code",
   "execution_count": 83,
   "id": "a9d2aaaf-daad-4e48-99d2-f4d3b6bc05e7",
   "metadata": {},
   "outputs": [],
   "source": [
    " # Convert a normalized dataframe into a tiered json\n",
    "def json_denormalize(df):\n",
    "    json_list = []\n",
    "    for i in range(len(df)):\n",
    "        json_dict = {}\n",
    "        for key, value in df.iloc[i].items():\n",
    "            dot_index = key.find('.')\n",
    "            if dot_index == -1:\n",
    "                json_dict[key] = value\n",
    "            else:\n",
    "                if key[:dot_index] not in json_dict:\n",
    "                    json_dict[key[:dot_index]] = {}\n",
    "                json_dict[key[:dot_index]].update({key[dot_index+1:]: value})\n",
    "        json_list.append(json_dict)\n",
    "    #print(json_list)\n",
    "    return json_list"
   ]
  },
  {
   "cell_type": "code",
   "execution_count": 84,
   "id": "9efb127f-3035-439b-9350-a11364875b5e",
   "metadata": {},
   "outputs": [
    {
     "data": {
      "text/plain": [
       "[{'Name': 'Audrey Barbier',\n",
       "  'Email': 'audrey.barbier@example.com',\n",
       "  'City': 'Gams',\n",
       "  'Detail': {'One': 'AaG1', 'Two': 'AaG2', 'Three': 'AaG3'}},\n",
       " {'Name': 'Savannah Moore',\n",
       "  'Email': 'savannah.moore@example.com',\n",
       "  'City': 'Upper Hutt',\n",
       "  'Detail': {'One': 'SsU1', 'Two': 'SsU2', 'Three': 'SsU3'}},\n",
       " {'Name': 'Malou Poulsen',\n",
       "  'Email': 'malou.poulsen@example.com',\n",
       "  'City': 'Billum',\n",
       "  'Detail': {'One': 'MmB1', 'Two': 'MmB2', 'Three': 'MmB3'}},\n",
       " {'Name': 'Özkan Eliçin',\n",
       "  'Email': 'ozkan.elicin@example.com',\n",
       "  'City': 'Kırıkkale',\n",
       "  'Detail': {'One': 'ÖoK1', 'Two': 'ÖoK2', 'Three': 'ÖoK3'}},\n",
       " {'Name': 'Alice Nichols',\n",
       "  'Email': 'alice.nichols@example.com',\n",
       "  'City': 'York',\n",
       "  'Detail': {'One': 'AaY1', 'Two': 'AaY2', 'Three': 'AaY3'}}]"
      ]
     },
     "execution_count": 84,
     "metadata": {},
     "output_type": "execute_result"
    }
   ],
   "source": [
    "json_obj = json_denormalize(df)\n",
    "json_obj"
   ]
  }
 ],
 "metadata": {
  "kernelspec": {
   "display_name": "Python 3 (ipykernel)",
   "language": "python",
   "name": "python3"
  },
  "language_info": {
   "codemirror_mode": {
    "name": "ipython",
    "version": 3
   },
   "file_extension": ".py",
   "mimetype": "text/x-python",
   "name": "python",
   "nbconvert_exporter": "python",
   "pygments_lexer": "ipython3",
   "version": "3.9.2"
  }
 },
 "nbformat": 4,
 "nbformat_minor": 5
}
