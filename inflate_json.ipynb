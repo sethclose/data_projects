{
 "cells": [
  {
   "cell_type": "markdown",
   "id": "faea43a0-e97a-4fc1-94ec-fcfb04256316",
   "metadata": {},
   "source": [
    "## **Inflate JSON**\n",
    "###  Expand a Flat DataFrame into a Tiered JSON\n",
    "####           .xml -> json -> flat df -> json\n",
    "#### Author: Seth Close\n",
    "#### 05 JAN 2024"
   ]
  },
  {
   "cell_type": "code",
   "execution_count": 1,
   "id": "e3263455-e4a6-4951-968e-66beff0b4511",
   "metadata": {},
   "outputs": [],
   "source": [
    "import pandas as pd\n",
    "import json\n",
    "import xml.etree.ElementTree as ET"
   ]
  },
  {
   "cell_type": "code",
   "execution_count": 34,
   "id": "c9cb59b6-5dcd-4fc0-a1be-3a55092ee792",
   "metadata": {},
   "outputs": [],
   "source": [
    "filename = './xml/users.xml'\n",
    "with open(filename,'r') as f:\n",
    "    xml_text = f.read()\n",
    "#print(xml_text[:480])"
   ]
  },
  {
   "cell_type": "code",
   "execution_count": 3,
   "id": "29db6e01-1837-4f1b-9dae-82802c844c38",
   "metadata": {},
   "outputs": [],
   "source": [
    "tree = ET.parse('./xml/users.xml')\n",
    "root = tree.getroot()"
   ]
  },
  {
   "cell_type": "code",
   "execution_count": 4,
   "id": "954a407a-3bf4-44e4-9362-89e9c55e32ce",
   "metadata": {},
   "outputs": [
    {
     "name": "stdout",
     "output_type": "stream",
     "text": [
      "[{'Name': 'Roope Wirta', 'Email': 'roope.wirta@example.com', 'City': 'Pargas', 'File': {'One': 'RrP0', 'Two': 'RrP1', 'Three': 'RrP2', 'Notes': {'Note1': 'Hello', 'Note2': 'Goodbye', 'PS': {'alpha': 'Hi', 'beta': 'Bye'}}}}, {'Name': 'Nathaniel Phillips', 'Email': 'nathaniel.phillips@example.com', 'City': 'Rockhampton', 'File': {'One': 'NnR0', 'Two': 'NnR1', 'Three': 'NnR2', 'Notes': {'Note1': 'Hello', 'Note2': 'Goodbye', 'PS': {'alpha': 'Hi', 'beta': 'Bye'}}}}]\n"
     ]
    }
   ],
   "source": [
    "def xml_branch (branch, json_list, appended):\n",
    "    json_dict = {}\n",
    "    for child in branch:\n",
    "        if len(child) == 0:\n",
    "            json_dict.update({child.tag: child.text})\n",
    "        else:\n",
    "            if appended == False:\n",
    "                json_list.append(json_dict)\n",
    "                appended = True\n",
    "            json_dict.update({child.tag: xml_branch (child, json_list, appended)})\n",
    "    return(json_dict)\n",
    "\n",
    "def xml_to_json (root):\n",
    "    json_list = []\n",
    "    for branch in root:\n",
    "        appended = False \n",
    "        xml_branch(branch, json_list, appended)\n",
    "    return json_list\n",
    "\n",
    "json_list = xml_to_json(root)\n",
    "print(json_list)"
   ]
  },
  {
   "cell_type": "code",
   "execution_count": 5,
   "id": "225a8be0-e7e4-417f-a120-21158e48bb0f",
   "metadata": {},
   "outputs": [],
   "source": [
    "# Make a JSON file\n",
    "filename = \"./json/users.json\"\n",
    "with open(filename, 'w') as file:\n",
    "    file.write(json.dumps(json_list))"
   ]
  },
  {
   "cell_type": "code",
   "execution_count": 6,
   "id": "1e4c967e-2f8b-41b1-a3c8-7cb13e88c3f8",
   "metadata": {},
   "outputs": [
    {
     "data": {
      "text/html": [
       "<div>\n",
       "<style scoped>\n",
       "    .dataframe tbody tr th:only-of-type {\n",
       "        vertical-align: middle;\n",
       "    }\n",
       "\n",
       "    .dataframe tbody tr th {\n",
       "        vertical-align: top;\n",
       "    }\n",
       "\n",
       "    .dataframe thead th {\n",
       "        text-align: right;\n",
       "    }\n",
       "</style>\n",
       "<table border=\"1\" class=\"dataframe\">\n",
       "  <thead>\n",
       "    <tr style=\"text-align: right;\">\n",
       "      <th></th>\n",
       "      <th>Name</th>\n",
       "      <th>Email</th>\n",
       "      <th>City</th>\n",
       "      <th>File.One</th>\n",
       "      <th>File.Two</th>\n",
       "      <th>File.Three</th>\n",
       "      <th>File.Notes.Note1</th>\n",
       "      <th>File.Notes.Note2</th>\n",
       "      <th>File.Notes.PS.alpha</th>\n",
       "      <th>File.Notes.PS.beta</th>\n",
       "    </tr>\n",
       "  </thead>\n",
       "  <tbody>\n",
       "    <tr>\n",
       "      <th>0</th>\n",
       "      <td>Roope Wirta</td>\n",
       "      <td>roope.wirta@example.com</td>\n",
       "      <td>Pargas</td>\n",
       "      <td>RrP0</td>\n",
       "      <td>RrP1</td>\n",
       "      <td>RrP2</td>\n",
       "      <td>Hello</td>\n",
       "      <td>Goodbye</td>\n",
       "      <td>Hi</td>\n",
       "      <td>Bye</td>\n",
       "    </tr>\n",
       "    <tr>\n",
       "      <th>1</th>\n",
       "      <td>Nathaniel Phillips</td>\n",
       "      <td>nathaniel.phillips@example.com</td>\n",
       "      <td>Rockhampton</td>\n",
       "      <td>NnR0</td>\n",
       "      <td>NnR1</td>\n",
       "      <td>NnR2</td>\n",
       "      <td>Hello</td>\n",
       "      <td>Goodbye</td>\n",
       "      <td>Hi</td>\n",
       "      <td>Bye</td>\n",
       "    </tr>\n",
       "  </tbody>\n",
       "</table>\n",
       "</div>"
      ],
      "text/plain": [
       "                 Name                           Email         City File.One  \\\n",
       "0         Roope Wirta         roope.wirta@example.com       Pargas     RrP0   \n",
       "1  Nathaniel Phillips  nathaniel.phillips@example.com  Rockhampton     NnR0   \n",
       "\n",
       "  File.Two File.Three File.Notes.Note1 File.Notes.Note2 File.Notes.PS.alpha  \\\n",
       "0     RrP1       RrP2            Hello          Goodbye                  Hi   \n",
       "1     NnR1       NnR2            Hello          Goodbye                  Hi   \n",
       "\n",
       "  File.Notes.PS.beta  \n",
       "0                Bye  \n",
       "1                Bye  "
      ]
     },
     "execution_count": 6,
     "metadata": {},
     "output_type": "execute_result"
    }
   ],
   "source": [
    "# Create a Flat DataFrame\n",
    "user_flat = pd.json_normalize(json_list)\n",
    "user_flat"
   ]
  },
  {
   "cell_type": "code",
   "execution_count": 31,
   "id": "d705d8f5-b7b1-49e4-b885-1f30f0bcfd2b",
   "metadata": {},
   "outputs": [],
   "source": [
    "# Convert a Flattened Dataframe into a Tiered JSON\n",
    "def json_level(key, value, current_dict):\n",
    "    sub_dict = {}\n",
    "    dot_index = key.find('.')\n",
    "    # Is this the bottom of the hierarchy?\n",
    "    if dot_index == -1:\n",
    "        sub_dict[key] = value\n",
    "    # There is another level below this one\n",
    "    else:\n",
    "        # Separate out the actual key for this level and instantiate \n",
    "        parent_key = key[:dot_index]\n",
    "        child_key = key[dot_index+1:]\n",
    "        if parent_key not in sub_dict:\n",
    "            sub_dict[parent_key] = {}\n",
    "        if parent_key not in current_dict:\n",
    "            current_dict[parent_key] = {}  \n",
    "            \n",
    "        # Are we at the bottom level?\n",
    "        dot_index = child_key.find('.')\n",
    "        if dot_index == -1:\n",
    "            sub_dict[parent_key].update({child_key: value})\n",
    "        else:\n",
    "            returned_dict = json_level(child_key, value, current_dict[parent_key])\n",
    "            if child_key[:dot_index] in returned_dict:\n",
    "                current_dict[parent_key][child_key[:dot_index]].update(returned_dict[child_key[:dot_index]])\n",
    "            return returned_dict            \n",
    "    return sub_dict\n",
    "    \n",
    "def json_inflate(df):\n",
    "    json_list = []\n",
    "    for id in range(len(df)):\n",
    "        json_dict = {}\n",
    "        for key, value in df.iloc[id].items():\n",
    "            sub_dict = json_level(key, value, json_dict)\n",
    "            # Key: Literal\n",
    "            if sub_dict.get(key) is not None:\n",
    "                json_dict.update(sub_dict) \n",
    "            # Key: Sub Dict\n",
    "            dot_index = key.find(\".\")\n",
    "            if sub_dict.get(key[:dot_index]) is not None:\n",
    "                json_dict[key[:dot_index]].update(sub_dict.get(key[:dot_index]))\n",
    "        json_list.append(json_dict)\n",
    "    return json_list"
   ]
  },
  {
   "cell_type": "code",
   "execution_count": 32,
   "id": "7b0dec42-51c0-4039-857c-fcf51f309156",
   "metadata": {},
   "outputs": [
    {
     "name": "stdout",
     "output_type": "stream",
     "text": [
      "[{'Name': 'Roope Wirta', 'Email': 'roope.wirta@example.com', 'City': 'Pargas', 'File': {'One': 'RrP0', 'Two': 'RrP1', 'Three': 'RrP2', 'Notes': {'Note1': 'Hello', 'Note2': 'Goodbye', 'PS': {'alpha': 'Hi', 'beta': 'Bye'}}}}, {'Name': 'Nathaniel Phillips', 'Email': 'nathaniel.phillips@example.com', 'City': 'Rockhampton', 'File': {'One': 'NnR0', 'Two': 'NnR1', 'Three': 'NnR2', 'Notes': {'Note1': 'Hello', 'Note2': 'Goodbye', 'PS': {'alpha': 'Hi', 'beta': 'Bye'}}}}]\n"
     ]
    }
   ],
   "source": [
    "json_list = json_inflate(user_flat)\n",
    "print(json_list)"
   ]
  },
  {
   "cell_type": "code",
   "execution_count": 33,
   "id": "23a2ce94-afbb-4813-8ab6-3461a0e70cf4",
   "metadata": {},
   "outputs": [],
   "source": [
    "# Create a JSON File\n",
    "filename = \"./json/users_complex.json\"\n",
    "with open(filename, \"w\") as file:\n",
    "    json_data = json.dumps(json_list)\n",
    "    file.write(json_data)"
   ]
  }
 ],
 "metadata": {
  "kernelspec": {
   "display_name": "Python 3 (ipykernel)",
   "language": "python",
   "name": "python3"
  },
  "language_info": {
   "codemirror_mode": {
    "name": "ipython",
    "version": 3
   },
   "file_extension": ".py",
   "mimetype": "text/x-python",
   "name": "python",
   "nbconvert_exporter": "python",
   "pygments_lexer": "ipython3",
   "version": "3.9.2"
  }
 },
 "nbformat": 4,
 "nbformat_minor": 5
}
